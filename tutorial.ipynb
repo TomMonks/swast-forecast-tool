{
 "cells": [
  {
   "cell_type": "markdown",
   "metadata": {},
   "source": [
    "# SWAST Forecasting Tool\n",
    "\n",
    "An ensemble of Regression with ARIMA Errors and Facebook Prophet"
   ]
  },
  {
   "cell_type": "code",
   "execution_count": 1,
   "metadata": {},
   "outputs": [],
   "source": [
    "import pandas as pd\n",
    "import numpy as np\n",
    "import matplotlib.pyplot as plt\n",
    "\n",
    "\n",
    "import warnings\n",
    "warnings.filterwarnings('ignore')"
   ]
  },
  {
   "cell_type": "markdown",
   "metadata": {},
   "source": [
    "check statsmodels version"
   ]
  },
  {
   "cell_type": "code",
   "execution_count": 2,
   "metadata": {},
   "outputs": [
    {
     "name": "stdout",
     "output_type": "stream",
     "text": [
      "0.11.1\n"
     ]
    },
    {
     "data": {
      "text/plain": [
       "'/home/tom/Documents/swast-forecast-tool'"
      ]
     },
     "execution_count": 2,
     "metadata": {},
     "output_type": "execute_result"
    }
   ],
   "source": [
    "import statsmodels as sm\n",
    "print(sm.__version__)\n",
    "\n",
    "import os\n",
    "\n",
    "os.getcwd()"
   ]
  },
  {
   "cell_type": "code",
   "execution_count": 3,
   "metadata": {},
   "outputs": [
    {
     "name": "stderr",
     "output_type": "stream",
     "text": [
      "Importing plotly failed. Interactive plots will not work.\n"
     ]
    }
   ],
   "source": [
    "from swast_forecast.utility import (pre_process_daily_data, \n",
    "                                    default_ensemble,\n",
    "                                    forecast, \n",
    "                                    multi_region_forecast)"
   ]
  },
  {
   "cell_type": "markdown",
   "metadata": {},
   "source": [
    "## Constants"
   ]
  },
  {
   "cell_type": "code",
   "execution_count": 4,
   "metadata": {},
   "outputs": [],
   "source": [
    "PATH = '../code/ambo_data/Daily_Responses_5_Years_2019_full.csv'"
   ]
  },
  {
   "cell_type": "markdown",
   "metadata": {},
   "source": [
    "## Read in the data"
   ]
  },
  {
   "cell_type": "code",
   "execution_count": 5,
   "metadata": {},
   "outputs": [
    {
     "data": {
      "text/html": [
       "<div>\n",
       "<style scoped>\n",
       "    .dataframe tbody tr th:only-of-type {\n",
       "        vertical-align: middle;\n",
       "    }\n",
       "\n",
       "    .dataframe tbody tr th {\n",
       "        vertical-align: top;\n",
       "    }\n",
       "\n",
       "    .dataframe thead th {\n",
       "        text-align: right;\n",
       "    }\n",
       "</style>\n",
       "<table border=\"1\" class=\"dataframe\">\n",
       "  <thead>\n",
       "    <tr style=\"text-align: right;\">\n",
       "      <th>ora</th>\n",
       "      <th>BNSSG</th>\n",
       "      <th>Cornwall</th>\n",
       "      <th>Devon</th>\n",
       "      <th>Dorset</th>\n",
       "      <th>Gloucestershire</th>\n",
       "      <th>OOA</th>\n",
       "      <th>Somerset</th>\n",
       "      <th>Trust</th>\n",
       "      <th>Wiltshire</th>\n",
       "    </tr>\n",
       "    <tr>\n",
       "      <th>actual_dt</th>\n",
       "      <th></th>\n",
       "      <th></th>\n",
       "      <th></th>\n",
       "      <th></th>\n",
       "      <th></th>\n",
       "      <th></th>\n",
       "      <th></th>\n",
       "      <th></th>\n",
       "      <th></th>\n",
       "    </tr>\n",
       "  </thead>\n",
       "  <tbody>\n",
       "    <tr>\n",
       "      <th>2013-12-30</th>\n",
       "      <td>415.0</td>\n",
       "      <td>220.0</td>\n",
       "      <td>502.0</td>\n",
       "      <td>336.0</td>\n",
       "      <td>129.0</td>\n",
       "      <td>NaN</td>\n",
       "      <td>183.0</td>\n",
       "      <td>2042.0</td>\n",
       "      <td>255.0</td>\n",
       "    </tr>\n",
       "    <tr>\n",
       "      <th>2013-12-31</th>\n",
       "      <td>420.0</td>\n",
       "      <td>236.0</td>\n",
       "      <td>468.0</td>\n",
       "      <td>302.0</td>\n",
       "      <td>128.0</td>\n",
       "      <td>NaN</td>\n",
       "      <td>180.0</td>\n",
       "      <td>1996.0</td>\n",
       "      <td>260.0</td>\n",
       "    </tr>\n",
       "    <tr>\n",
       "      <th>2014-01-01</th>\n",
       "      <td>549.0</td>\n",
       "      <td>341.0</td>\n",
       "      <td>566.0</td>\n",
       "      <td>392.0</td>\n",
       "      <td>157.0</td>\n",
       "      <td>NaN</td>\n",
       "      <td>213.0</td>\n",
       "      <td>2570.0</td>\n",
       "      <td>351.0</td>\n",
       "    </tr>\n",
       "    <tr>\n",
       "      <th>2014-01-02</th>\n",
       "      <td>450.0</td>\n",
       "      <td>218.0</td>\n",
       "      <td>499.0</td>\n",
       "      <td>301.0</td>\n",
       "      <td>115.0</td>\n",
       "      <td>NaN</td>\n",
       "      <td>167.0</td>\n",
       "      <td>2013.0</td>\n",
       "      <td>258.0</td>\n",
       "    </tr>\n",
       "    <tr>\n",
       "      <th>2014-01-03</th>\n",
       "      <td>419.0</td>\n",
       "      <td>229.0</td>\n",
       "      <td>503.0</td>\n",
       "      <td>304.0</td>\n",
       "      <td>135.0</td>\n",
       "      <td>NaN</td>\n",
       "      <td>195.0</td>\n",
       "      <td>2056.0</td>\n",
       "      <td>269.0</td>\n",
       "    </tr>\n",
       "  </tbody>\n",
       "</table>\n",
       "</div>"
      ],
      "text/plain": [
       "ora         BNSSG  Cornwall  Devon  Dorset  Gloucestershire  OOA  Somerset  \\\n",
       "actual_dt                                                                    \n",
       "2013-12-30  415.0     220.0  502.0   336.0            129.0  NaN     183.0   \n",
       "2013-12-31  420.0     236.0  468.0   302.0            128.0  NaN     180.0   \n",
       "2014-01-01  549.0     341.0  566.0   392.0            157.0  NaN     213.0   \n",
       "2014-01-02  450.0     218.0  499.0   301.0            115.0  NaN     167.0   \n",
       "2014-01-03  419.0     229.0  503.0   304.0            135.0  NaN     195.0   \n",
       "\n",
       "ora          Trust  Wiltshire  \n",
       "actual_dt                      \n",
       "2013-12-30  2042.0      255.0  \n",
       "2013-12-31  1996.0      260.0  \n",
       "2014-01-01  2570.0      351.0  \n",
       "2014-01-02  2013.0      258.0  \n",
       "2014-01-03  2056.0      269.0  "
      ]
     },
     "execution_count": 5,
     "metadata": {},
     "output_type": "execute_result"
    }
   ],
   "source": [
    "clean = pre_process_daily_data(path=PATH, \n",
    "                               observation_col='Actual_Value', \n",
    "                               index_col='Actual_dt')\n",
    "clean.head()"
   ]
  },
  {
   "cell_type": "markdown",
   "metadata": {},
   "source": [
    "## Creating and fitting an Ensemble model to a region\n",
    "\n",
    "The easy way to create an ensemble model is to call the `default_ensemble()` function form the utility module.  This returns the best known forecasting model."
   ]
  },
  {
   "cell_type": "code",
   "execution_count": 21,
   "metadata": {},
   "outputs": [
    {
     "data": {
      "text/plain": [
       "ProphetARIMAEnsemble(order=(1, 1, 3), seasonal_order=(1, 0, 1, 7), prophet_default_alpha={self.alpha})"
      ]
     },
     "execution_count": 21,
     "metadata": {},
     "output_type": "execute_result"
    }
   ],
   "source": [
    "model = default_ensemble()\n",
    "model"
   ]
  },
  {
   "cell_type": "markdown",
   "metadata": {},
   "source": [
    "The code above informs us that the ensemble includes a Regression model with ARIMA errors with parameters (1, 1, 3)(1, 0, 1, 7).  By default a Prophet model will create a 80\\% prediction interval 100(1-alpha)\n",
    "\n",
    "To fit we call the `.fit()` method and pass in a `pd.Series` (or `pd.DataFrame`) that contains the historical observations.  By default you do not need to pass in holidays.  The ensemble will model new years day automatically (via Prophet's holidays function and as a dummy variable in the Regression with ARIMA errors)."
   ]
  },
  {
   "cell_type": "code",
   "execution_count": 23,
   "metadata": {},
   "outputs": [],
   "source": [
    "#example - fitting Wiltshire - this will take a few seconds.\n",
    "model.fit(clean['Wiltshire'])"
   ]
  },
  {
   "cell_type": "markdown",
   "metadata": {},
   "source": [
    "## Forecasting an individual region.\n",
    "\n",
    "Use the `.predict()` method to make a forecast.  The method takes 3 parameters:\n",
    "\n",
    "* **horizon**: int - the forecast horizon e.g. 84 days\n",
    "* **alpha**: float, optional (default=0.05) - a value between 0 and 1 and used to construct a 100(1 - alpha) prediction interval. E.g. alpha=0.2 returns a 80\\% interval.  \n",
    "* **return_all_models**: bool, optional (default=False). If sets to true returns the ensemble prediction AND the Prophet and Regression predictions."
   ]
  },
  {
   "cell_type": "code",
   "execution_count": 8,
   "metadata": {},
   "outputs": [
    {
     "data": {
      "text/html": [
       "<div>\n",
       "<style scoped>\n",
       "    .dataframe tbody tr th:only-of-type {\n",
       "        vertical-align: middle;\n",
       "    }\n",
       "\n",
       "    .dataframe tbody tr th {\n",
       "        vertical-align: top;\n",
       "    }\n",
       "\n",
       "    .dataframe thead th {\n",
       "        text-align: right;\n",
       "    }\n",
       "</style>\n",
       "<table border=\"1\" class=\"dataframe\">\n",
       "  <thead>\n",
       "    <tr style=\"text-align: right;\">\n",
       "      <th></th>\n",
       "      <th>yhat</th>\n",
       "      <th>yhat_lower_95</th>\n",
       "      <th>yhat_upper95</th>\n",
       "    </tr>\n",
       "    <tr>\n",
       "      <th>ds</th>\n",
       "      <th></th>\n",
       "      <th></th>\n",
       "      <th></th>\n",
       "    </tr>\n",
       "  </thead>\n",
       "  <tbody>\n",
       "    <tr>\n",
       "      <th>2020-01-01</th>\n",
       "      <td>389.033671</td>\n",
       "      <td>351.919364</td>\n",
       "      <td>425.335036</td>\n",
       "    </tr>\n",
       "    <tr>\n",
       "      <th>2020-01-02</th>\n",
       "      <td>328.488021</td>\n",
       "      <td>292.561903</td>\n",
       "      <td>365.334340</td>\n",
       "    </tr>\n",
       "    <tr>\n",
       "      <th>2020-01-03</th>\n",
       "      <td>332.563272</td>\n",
       "      <td>294.420597</td>\n",
       "      <td>369.723710</td>\n",
       "    </tr>\n",
       "    <tr>\n",
       "      <th>2020-01-04</th>\n",
       "      <td>348.733984</td>\n",
       "      <td>311.278243</td>\n",
       "      <td>385.298249</td>\n",
       "    </tr>\n",
       "    <tr>\n",
       "      <th>2020-01-05</th>\n",
       "      <td>348.858335</td>\n",
       "      <td>311.974900</td>\n",
       "      <td>384.266166</td>\n",
       "    </tr>\n",
       "    <tr>\n",
       "      <th>2020-01-06</th>\n",
       "      <td>335.638559</td>\n",
       "      <td>298.904823</td>\n",
       "      <td>373.145688</td>\n",
       "    </tr>\n",
       "    <tr>\n",
       "      <th>2020-01-07</th>\n",
       "      <td>326.682607</td>\n",
       "      <td>289.616191</td>\n",
       "      <td>364.330569</td>\n",
       "    </tr>\n",
       "  </tbody>\n",
       "</table>\n",
       "</div>"
      ],
      "text/plain": [
       "                  yhat  yhat_lower_95  yhat_upper95\n",
       "ds                                                 \n",
       "2020-01-01  389.033671     351.919364    425.335036\n",
       "2020-01-02  328.488021     292.561903    365.334340\n",
       "2020-01-03  332.563272     294.420597    369.723710\n",
       "2020-01-04  348.733984     311.278243    385.298249\n",
       "2020-01-05  348.858335     311.974900    384.266166\n",
       "2020-01-06  335.638559     298.904823    373.145688\n",
       "2020-01-07  326.682607     289.616191    364.330569"
      ]
     },
     "execution_count": 8,
     "metadata": {},
     "output_type": "execute_result"
    }
   ],
   "source": [
    "#example 1: predict 7 days ahead - remember we have fitted Wiltshire training data.\n",
    "forecast_frame = model.predict(horizon=7)\n",
    "forecast_frame"
   ]
  },
  {
   "cell_type": "markdown",
   "metadata": {},
   "source": [
    "The method returns a `pd.DataFrame` containing mean forecast (yhat) and an upper and lower prediction interval.  The code below demonstrates how to return predictions from both the ARIMA and Prophet models.  We will also return a different prediction interval."
   ]
  },
  {
   "cell_type": "code",
   "execution_count": 9,
   "metadata": {},
   "outputs": [
    {
     "data": {
      "text/html": [
       "<div>\n",
       "<style scoped>\n",
       "    .dataframe tbody tr th:only-of-type {\n",
       "        vertical-align: middle;\n",
       "    }\n",
       "\n",
       "    .dataframe tbody tr th {\n",
       "        vertical-align: top;\n",
       "    }\n",
       "\n",
       "    .dataframe thead th {\n",
       "        text-align: right;\n",
       "    }\n",
       "</style>\n",
       "<table border=\"1\" class=\"dataframe\">\n",
       "  <thead>\n",
       "    <tr style=\"text-align: right;\">\n",
       "      <th></th>\n",
       "      <th>yhat</th>\n",
       "      <th>yhat_lower_80</th>\n",
       "      <th>yhat_upper80</th>\n",
       "      <th>arima_mean</th>\n",
       "      <th>arima_lower_80</th>\n",
       "      <th>arima_upper_80</th>\n",
       "      <th>prophet_mean</th>\n",
       "      <th>prophet_lower_80</th>\n",
       "      <th>prophet_upper_80</th>\n",
       "    </tr>\n",
       "    <tr>\n",
       "      <th>ds</th>\n",
       "      <th></th>\n",
       "      <th></th>\n",
       "      <th></th>\n",
       "      <th></th>\n",
       "      <th></th>\n",
       "      <th></th>\n",
       "      <th></th>\n",
       "      <th></th>\n",
       "      <th></th>\n",
       "    </tr>\n",
       "  </thead>\n",
       "  <tbody>\n",
       "    <tr>\n",
       "      <th>2020-01-01</th>\n",
       "      <td>389.033671</td>\n",
       "      <td>365.903063</td>\n",
       "      <td>412.236253</td>\n",
       "      <td>381.652918</td>\n",
       "      <td>357.811543</td>\n",
       "      <td>405.494293</td>\n",
       "      <td>396.414423</td>\n",
       "      <td>373.994583</td>\n",
       "      <td>418.978212</td>\n",
       "    </tr>\n",
       "    <tr>\n",
       "      <th>2020-01-02</th>\n",
       "      <td>328.488021</td>\n",
       "      <td>304.336866</td>\n",
       "      <td>352.826624</td>\n",
       "      <td>328.893489</td>\n",
       "      <td>304.534189</td>\n",
       "      <td>353.252789</td>\n",
       "      <td>328.082554</td>\n",
       "      <td>304.139543</td>\n",
       "      <td>352.400458</td>\n",
       "    </tr>\n",
       "    <tr>\n",
       "      <th>2020-01-03</th>\n",
       "      <td>332.563272</td>\n",
       "      <td>307.712967</td>\n",
       "      <td>355.896359</td>\n",
       "      <td>333.117808</td>\n",
       "      <td>308.470773</td>\n",
       "      <td>357.764844</td>\n",
       "      <td>332.008735</td>\n",
       "      <td>306.955161</td>\n",
       "      <td>354.027874</td>\n",
       "    </tr>\n",
       "    <tr>\n",
       "      <th>2020-01-04</th>\n",
       "      <td>348.733984</td>\n",
       "      <td>323.968890</td>\n",
       "      <td>372.477904</td>\n",
       "      <td>347.836168</td>\n",
       "      <td>322.927592</td>\n",
       "      <td>372.744744</td>\n",
       "      <td>349.631799</td>\n",
       "      <td>325.010187</td>\n",
       "      <td>372.211064</td>\n",
       "    </tr>\n",
       "    <tr>\n",
       "      <th>2020-01-05</th>\n",
       "      <td>348.858335</td>\n",
       "      <td>324.436039</td>\n",
       "      <td>373.209843</td>\n",
       "      <td>348.568032</td>\n",
       "      <td>323.420965</td>\n",
       "      <td>373.715099</td>\n",
       "      <td>349.148638</td>\n",
       "      <td>325.451113</td>\n",
       "      <td>372.704588</td>\n",
       "    </tr>\n",
       "    <tr>\n",
       "      <th>2020-01-06</th>\n",
       "      <td>335.638559</td>\n",
       "      <td>310.761936</td>\n",
       "      <td>360.863522</td>\n",
       "      <td>337.437881</td>\n",
       "      <td>312.072670</td>\n",
       "      <td>362.803092</td>\n",
       "      <td>333.839236</td>\n",
       "      <td>309.451202</td>\n",
       "      <td>358.923952</td>\n",
       "    </tr>\n",
       "    <tr>\n",
       "      <th>2020-01-07</th>\n",
       "      <td>326.682607</td>\n",
       "      <td>302.811351</td>\n",
       "      <td>350.021557</td>\n",
       "      <td>330.057359</td>\n",
       "      <td>304.492022</td>\n",
       "      <td>355.622696</td>\n",
       "      <td>323.307855</td>\n",
       "      <td>301.130680</td>\n",
       "      <td>344.420418</td>\n",
       "    </tr>\n",
       "  </tbody>\n",
       "</table>\n",
       "</div>"
      ],
      "text/plain": [
       "                  yhat  yhat_lower_80  yhat_upper80  arima_mean  \\\n",
       "ds                                                                \n",
       "2020-01-01  389.033671     365.903063    412.236253  381.652918   \n",
       "2020-01-02  328.488021     304.336866    352.826624  328.893489   \n",
       "2020-01-03  332.563272     307.712967    355.896359  333.117808   \n",
       "2020-01-04  348.733984     323.968890    372.477904  347.836168   \n",
       "2020-01-05  348.858335     324.436039    373.209843  348.568032   \n",
       "2020-01-06  335.638559     310.761936    360.863522  337.437881   \n",
       "2020-01-07  326.682607     302.811351    350.021557  330.057359   \n",
       "\n",
       "            arima_lower_80  arima_upper_80  prophet_mean  prophet_lower_80  \\\n",
       "ds                                                                           \n",
       "2020-01-01      357.811543      405.494293    396.414423        373.994583   \n",
       "2020-01-02      304.534189      353.252789    328.082554        304.139543   \n",
       "2020-01-03      308.470773      357.764844    332.008735        306.955161   \n",
       "2020-01-04      322.927592      372.744744    349.631799        325.010187   \n",
       "2020-01-05      323.420965      373.715099    349.148638        325.451113   \n",
       "2020-01-06      312.072670      362.803092    333.839236        309.451202   \n",
       "2020-01-07      304.492022      355.622696    323.307855        301.130680   \n",
       "\n",
       "            prophet_upper_80  \n",
       "ds                            \n",
       "2020-01-01        418.978212  \n",
       "2020-01-02        352.400458  \n",
       "2020-01-03        354.027874  \n",
       "2020-01-04        372.211064  \n",
       "2020-01-05        372.704588  \n",
       "2020-01-06        358.923952  \n",
       "2020-01-07        344.420418  "
      ]
     },
     "execution_count": 9,
     "metadata": {},
     "output_type": "execute_result"
    }
   ],
   "source": [
    "#example 2: predict 7 days ahead, return 80% PI and individual model preds\n",
    "forecast_frame = model.predict(horizon=7, alpha=0.2, return_all_models=True)\n",
    "forecast_frame"
   ]
  },
  {
   "cell_type": "markdown",
   "metadata": {},
   "source": [
    "## An 'all in one' forecast function\n",
    "\n",
    "As an alternative to the above the `utility` module contains a convenience function called `forecast`.  This is an all-in-one function.  Just pass in your training data (for a single time series) and horizon."
   ]
  },
  {
   "cell_type": "code",
   "execution_count": 10,
   "metadata": {},
   "outputs": [
    {
     "data": {
      "text/html": [
       "<div>\n",
       "<style scoped>\n",
       "    .dataframe tbody tr th:only-of-type {\n",
       "        vertical-align: middle;\n",
       "    }\n",
       "\n",
       "    .dataframe tbody tr th {\n",
       "        vertical-align: top;\n",
       "    }\n",
       "\n",
       "    .dataframe thead th {\n",
       "        text-align: right;\n",
       "    }\n",
       "</style>\n",
       "<table border=\"1\" class=\"dataframe\">\n",
       "  <thead>\n",
       "    <tr style=\"text-align: right;\">\n",
       "      <th></th>\n",
       "      <th>yhat</th>\n",
       "      <th>yhat_lower_80</th>\n",
       "      <th>yhat_upper80</th>\n",
       "    </tr>\n",
       "    <tr>\n",
       "      <th>ds</th>\n",
       "      <th></th>\n",
       "      <th></th>\n",
       "      <th></th>\n",
       "    </tr>\n",
       "  </thead>\n",
       "  <tbody>\n",
       "    <tr>\n",
       "      <th>2020-01-01</th>\n",
       "      <td>389.033671</td>\n",
       "      <td>365.330475</td>\n",
       "      <td>413.303734</td>\n",
       "    </tr>\n",
       "    <tr>\n",
       "      <th>2020-01-02</th>\n",
       "      <td>328.488021</td>\n",
       "      <td>305.111123</td>\n",
       "      <td>353.092870</td>\n",
       "    </tr>\n",
       "    <tr>\n",
       "      <th>2020-01-03</th>\n",
       "      <td>332.563272</td>\n",
       "      <td>308.295871</td>\n",
       "      <td>357.659112</td>\n",
       "    </tr>\n",
       "    <tr>\n",
       "      <th>2020-01-04</th>\n",
       "      <td>348.733984</td>\n",
       "      <td>324.316497</td>\n",
       "      <td>373.217938</td>\n",
       "    </tr>\n",
       "    <tr>\n",
       "      <th>2020-01-05</th>\n",
       "      <td>348.858335</td>\n",
       "      <td>324.066967</td>\n",
       "      <td>373.264873</td>\n",
       "    </tr>\n",
       "    <tr>\n",
       "      <th>2020-01-06</th>\n",
       "      <td>335.638559</td>\n",
       "      <td>311.172885</td>\n",
       "      <td>360.231234</td>\n",
       "    </tr>\n",
       "  </tbody>\n",
       "</table>\n",
       "</div>"
      ],
      "text/plain": [
       "                  yhat  yhat_lower_80  yhat_upper80\n",
       "ds                                                 \n",
       "2020-01-01  389.033671     365.330475    413.303734\n",
       "2020-01-02  328.488021     305.111123    353.092870\n",
       "2020-01-03  332.563272     308.295871    357.659112\n",
       "2020-01-04  348.733984     324.316497    373.217938\n",
       "2020-01-05  348.858335     324.066967    373.264873\n",
       "2020-01-06  335.638559     311.172885    360.231234"
      ]
     },
     "execution_count": 10,
     "metadata": {},
     "output_type": "execute_result"
    }
   ],
   "source": [
    "forecast(clean['Wiltshire'], \n",
    "         horizon=6, \n",
    "         alpha=0.2,\n",
    "         return_all_models=False)"
   ]
  },
  {
   "cell_type": "markdown",
   "metadata": {},
   "source": [
    "## Forecasting multiple regions in one go.\n",
    "\n",
    "If there are multiple regions to forecast put all of the training data into the same frame (see `clean`) and pass this to the `multi_region_forecast()` function from the `utility` module.\n",
    "\n",
    "This is an efficient function as it runs the forecasts in parrallel across your CPU cores.  E.g. if you have a 4 cores then 4 regions will be forecast simultaneously.  This will reduce model run time (assuming you have more than one Core)."
   ]
  },
  {
   "cell_type": "code",
   "execution_count": 11,
   "metadata": {},
   "outputs": [],
   "source": [
    "#note depending on your machine this will take 20 seconds to run.\n",
    "forecasts = multi_region_forecast(y_train=clean, horizon=7)"
   ]
  },
  {
   "cell_type": "code",
   "execution_count": 12,
   "metadata": {},
   "outputs": [
    {
     "data": {
      "text/plain": [
       "list"
      ]
     },
     "execution_count": 12,
     "metadata": {},
     "output_type": "execute_result"
    }
   ],
   "source": [
    "#the function returns a list of pd.DataFrame's\n",
    "type(forecasts)"
   ]
  },
  {
   "cell_type": "code",
   "execution_count": 13,
   "metadata": {},
   "outputs": [
    {
     "data": {
      "text/html": [
       "<div>\n",
       "<style scoped>\n",
       "    .dataframe tbody tr th:only-of-type {\n",
       "        vertical-align: middle;\n",
       "    }\n",
       "\n",
       "    .dataframe tbody tr th {\n",
       "        vertical-align: top;\n",
       "    }\n",
       "\n",
       "    .dataframe thead th {\n",
       "        text-align: right;\n",
       "    }\n",
       "</style>\n",
       "<table border=\"1\" class=\"dataframe\">\n",
       "  <thead>\n",
       "    <tr style=\"text-align: right;\">\n",
       "      <th></th>\n",
       "      <th>yhat</th>\n",
       "      <th>yhat_lower_95</th>\n",
       "      <th>yhat_upper95</th>\n",
       "    </tr>\n",
       "    <tr>\n",
       "      <th>ds</th>\n",
       "      <th></th>\n",
       "      <th></th>\n",
       "      <th></th>\n",
       "    </tr>\n",
       "  </thead>\n",
       "  <tbody>\n",
       "    <tr>\n",
       "      <th>2020-01-01</th>\n",
       "      <td>667.046404</td>\n",
       "      <td>619.578479</td>\n",
       "      <td>713.810816</td>\n",
       "    </tr>\n",
       "    <tr>\n",
       "      <th>2020-01-02</th>\n",
       "      <td>545.976607</td>\n",
       "      <td>498.663481</td>\n",
       "      <td>593.498654</td>\n",
       "    </tr>\n",
       "    <tr>\n",
       "      <th>2020-01-03</th>\n",
       "      <td>553.843168</td>\n",
       "      <td>504.492593</td>\n",
       "      <td>601.661420</td>\n",
       "    </tr>\n",
       "    <tr>\n",
       "      <th>2020-01-04</th>\n",
       "      <td>588.031241</td>\n",
       "      <td>539.018238</td>\n",
       "      <td>635.780397</td>\n",
       "    </tr>\n",
       "    <tr>\n",
       "      <th>2020-01-05</th>\n",
       "      <td>579.761990</td>\n",
       "      <td>528.787633</td>\n",
       "      <td>627.440772</td>\n",
       "    </tr>\n",
       "    <tr>\n",
       "      <th>2020-01-06</th>\n",
       "      <td>554.881950</td>\n",
       "      <td>505.055762</td>\n",
       "      <td>603.628492</td>\n",
       "    </tr>\n",
       "    <tr>\n",
       "      <th>2020-01-07</th>\n",
       "      <td>537.738373</td>\n",
       "      <td>487.071878</td>\n",
       "      <td>585.850600</td>\n",
       "    </tr>\n",
       "  </tbody>\n",
       "</table>\n",
       "</div>"
      ],
      "text/plain": [
       "                  yhat  yhat_lower_95  yhat_upper95\n",
       "ds                                                 \n",
       "2020-01-01  667.046404     619.578479    713.810816\n",
       "2020-01-02  545.976607     498.663481    593.498654\n",
       "2020-01-03  553.843168     504.492593    601.661420\n",
       "2020-01-04  588.031241     539.018238    635.780397\n",
       "2020-01-05  579.761990     528.787633    627.440772\n",
       "2020-01-06  554.881950     505.055762    603.628492\n",
       "2020-01-07  537.738373     487.071878    585.850600"
      ]
     },
     "execution_count": 13,
     "metadata": {},
     "output_type": "execute_result"
    }
   ],
   "source": [
    "#results for BNSSG\n",
    "forecasts[0]"
   ]
  },
  {
   "cell_type": "code",
   "execution_count": 14,
   "metadata": {},
   "outputs": [
    {
     "data": {
      "text/html": [
       "<div>\n",
       "<style scoped>\n",
       "    .dataframe tbody tr th:only-of-type {\n",
       "        vertical-align: middle;\n",
       "    }\n",
       "\n",
       "    .dataframe tbody tr th {\n",
       "        vertical-align: top;\n",
       "    }\n",
       "\n",
       "    .dataframe thead th {\n",
       "        text-align: right;\n",
       "    }\n",
       "</style>\n",
       "<table border=\"1\" class=\"dataframe\">\n",
       "  <thead>\n",
       "    <tr style=\"text-align: right;\">\n",
       "      <th></th>\n",
       "      <th>yhat</th>\n",
       "      <th>yhat_lower_95</th>\n",
       "      <th>yhat_upper95</th>\n",
       "    </tr>\n",
       "    <tr>\n",
       "      <th>ds</th>\n",
       "      <th></th>\n",
       "      <th></th>\n",
       "      <th></th>\n",
       "    </tr>\n",
       "  </thead>\n",
       "  <tbody>\n",
       "    <tr>\n",
       "      <th>2020-01-01</th>\n",
       "      <td>317.561603</td>\n",
       "      <td>285.273760</td>\n",
       "      <td>349.390984</td>\n",
       "    </tr>\n",
       "    <tr>\n",
       "      <th>2020-01-02</th>\n",
       "      <td>252.695551</td>\n",
       "      <td>220.002440</td>\n",
       "      <td>284.571467</td>\n",
       "    </tr>\n",
       "    <tr>\n",
       "      <th>2020-01-03</th>\n",
       "      <td>255.669320</td>\n",
       "      <td>222.614295</td>\n",
       "      <td>288.650042</td>\n",
       "    </tr>\n",
       "    <tr>\n",
       "      <th>2020-01-04</th>\n",
       "      <td>271.179998</td>\n",
       "      <td>238.173673</td>\n",
       "      <td>303.848050</td>\n",
       "    </tr>\n",
       "    <tr>\n",
       "      <th>2020-01-05</th>\n",
       "      <td>274.010956</td>\n",
       "      <td>241.990156</td>\n",
       "      <td>306.655835</td>\n",
       "    </tr>\n",
       "    <tr>\n",
       "      <th>2020-01-06</th>\n",
       "      <td>261.538837</td>\n",
       "      <td>228.260275</td>\n",
       "      <td>294.836532</td>\n",
       "    </tr>\n",
       "    <tr>\n",
       "      <th>2020-01-07</th>\n",
       "      <td>250.725712</td>\n",
       "      <td>218.823505</td>\n",
       "      <td>283.241629</td>\n",
       "    </tr>\n",
       "  </tbody>\n",
       "</table>\n",
       "</div>"
      ],
      "text/plain": [
       "                  yhat  yhat_lower_95  yhat_upper95\n",
       "ds                                                 \n",
       "2020-01-01  317.561603     285.273760    349.390984\n",
       "2020-01-02  252.695551     220.002440    284.571467\n",
       "2020-01-03  255.669320     222.614295    288.650042\n",
       "2020-01-04  271.179998     238.173673    303.848050\n",
       "2020-01-05  274.010956     241.990156    306.655835\n",
       "2020-01-06  261.538837     228.260275    294.836532\n",
       "2020-01-07  250.725712     218.823505    283.241629"
      ]
     },
     "execution_count": 14,
     "metadata": {},
     "output_type": "execute_result"
    }
   ],
   "source": [
    "#results for Cornwall is at index 1 etc.\n",
    "forecasts[1]"
   ]
  },
  {
   "cell_type": "code",
   "execution_count": null,
   "metadata": {},
   "outputs": [],
   "source": []
  }
 ],
 "metadata": {
  "kernelspec": {
   "display_name": "Python 3",
   "language": "python",
   "name": "python3"
  },
  "language_info": {
   "codemirror_mode": {
    "name": "ipython",
    "version": 3
   },
   "file_extension": ".py",
   "mimetype": "text/x-python",
   "name": "python",
   "nbconvert_exporter": "python",
   "pygments_lexer": "ipython3",
   "version": "3.7.7"
  }
 },
 "nbformat": 4,
 "nbformat_minor": 4
}
