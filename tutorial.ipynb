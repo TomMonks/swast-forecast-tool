{
 "cells": [
  {
   "cell_type": "markdown",
   "metadata": {},
   "source": [
    "# SWAST Forecasting Tool\n",
    "\n",
    "An ensemble of Regression with ARIMA Errors and Facebook Prophet"
   ]
  },
  {
   "cell_type": "code",
   "execution_count": 1,
   "metadata": {},
   "outputs": [],
   "source": [
    "import pandas as pd\n",
    "import numpy as np\n",
    "import matplotlib.pyplot as plt\n",
    "\n",
    "\n",
    "import warnings\n",
    "warnings.filterwarnings('ignore')"
   ]
  },
  {
   "cell_type": "markdown",
   "metadata": {},
   "source": [
    "check statsmodels version"
   ]
  },
  {
   "cell_type": "code",
   "execution_count": 2,
   "metadata": {},
   "outputs": [
    {
     "name": "stdout",
     "output_type": "stream",
     "text": [
      "0.11.1\n"
     ]
    },
    {
     "data": {
      "text/plain": [
       "'/home/tom/Documents/code/swast-forecast-tool'"
      ]
     },
     "execution_count": 2,
     "metadata": {},
     "output_type": "execute_result"
    }
   ],
   "source": [
    "import statsmodels as sm\n",
    "print(sm.__version__)\n",
    "\n",
    "import os\n",
    "\n",
    "os.getcwd()"
   ]
  },
  {
   "cell_type": "code",
   "execution_count": 3,
   "metadata": {},
   "outputs": [
    {
     "name": "stderr",
     "output_type": "stream",
     "text": [
      "Importing plotly failed. Interactive plots will not work.\n"
     ]
    }
   ],
   "source": [
    "from swast_forecast.utility import (pre_process_daily_data, \n",
    "                                    default_ensemble,\n",
    "                                    forecast, \n",
    "                                    multi_region_forecast)"
   ]
  },
  {
   "cell_type": "markdown",
   "metadata": {},
   "source": [
    "## Constants"
   ]
  },
  {
   "cell_type": "code",
   "execution_count": 4,
   "metadata": {},
   "outputs": [],
   "source": [
    "PATH = '../ambo_data/Daily_Responses_5_Years_2019_full.csv'"
   ]
  },
  {
   "cell_type": "markdown",
   "metadata": {},
   "source": [
    "## Read in the data"
   ]
  },
  {
   "cell_type": "code",
   "execution_count": 5,
   "metadata": {},
   "outputs": [
    {
     "data": {
      "text/html": [
       "<div>\n",
       "<style scoped>\n",
       "    .dataframe tbody tr th:only-of-type {\n",
       "        vertical-align: middle;\n",
       "    }\n",
       "\n",
       "    .dataframe tbody tr th {\n",
       "        vertical-align: top;\n",
       "    }\n",
       "\n",
       "    .dataframe thead th {\n",
       "        text-align: right;\n",
       "    }\n",
       "</style>\n",
       "<table border=\"1\" class=\"dataframe\">\n",
       "  <thead>\n",
       "    <tr style=\"text-align: right;\">\n",
       "      <th>ora</th>\n",
       "      <th>BNSSG</th>\n",
       "      <th>Cornwall</th>\n",
       "      <th>Devon</th>\n",
       "      <th>Dorset</th>\n",
       "      <th>Gloucestershire</th>\n",
       "      <th>OOA</th>\n",
       "      <th>Somerset</th>\n",
       "      <th>Trust</th>\n",
       "      <th>Wiltshire</th>\n",
       "    </tr>\n",
       "    <tr>\n",
       "      <th>actual_dt</th>\n",
       "      <th></th>\n",
       "      <th></th>\n",
       "      <th></th>\n",
       "      <th></th>\n",
       "      <th></th>\n",
       "      <th></th>\n",
       "      <th></th>\n",
       "      <th></th>\n",
       "      <th></th>\n",
       "    </tr>\n",
       "  </thead>\n",
       "  <tbody>\n",
       "    <tr>\n",
       "      <th>2013-12-30</th>\n",
       "      <td>415.0</td>\n",
       "      <td>220.0</td>\n",
       "      <td>502.0</td>\n",
       "      <td>336.0</td>\n",
       "      <td>129.0</td>\n",
       "      <td>NaN</td>\n",
       "      <td>183.0</td>\n",
       "      <td>2042.0</td>\n",
       "      <td>255.0</td>\n",
       "    </tr>\n",
       "    <tr>\n",
       "      <th>2013-12-31</th>\n",
       "      <td>420.0</td>\n",
       "      <td>236.0</td>\n",
       "      <td>468.0</td>\n",
       "      <td>302.0</td>\n",
       "      <td>128.0</td>\n",
       "      <td>NaN</td>\n",
       "      <td>180.0</td>\n",
       "      <td>1996.0</td>\n",
       "      <td>260.0</td>\n",
       "    </tr>\n",
       "    <tr>\n",
       "      <th>2014-01-01</th>\n",
       "      <td>549.0</td>\n",
       "      <td>341.0</td>\n",
       "      <td>566.0</td>\n",
       "      <td>392.0</td>\n",
       "      <td>157.0</td>\n",
       "      <td>NaN</td>\n",
       "      <td>213.0</td>\n",
       "      <td>2570.0</td>\n",
       "      <td>351.0</td>\n",
       "    </tr>\n",
       "    <tr>\n",
       "      <th>2014-01-02</th>\n",
       "      <td>450.0</td>\n",
       "      <td>218.0</td>\n",
       "      <td>499.0</td>\n",
       "      <td>301.0</td>\n",
       "      <td>115.0</td>\n",
       "      <td>NaN</td>\n",
       "      <td>167.0</td>\n",
       "      <td>2013.0</td>\n",
       "      <td>258.0</td>\n",
       "    </tr>\n",
       "    <tr>\n",
       "      <th>2014-01-03</th>\n",
       "      <td>419.0</td>\n",
       "      <td>229.0</td>\n",
       "      <td>503.0</td>\n",
       "      <td>304.0</td>\n",
       "      <td>135.0</td>\n",
       "      <td>NaN</td>\n",
       "      <td>195.0</td>\n",
       "      <td>2056.0</td>\n",
       "      <td>269.0</td>\n",
       "    </tr>\n",
       "  </tbody>\n",
       "</table>\n",
       "</div>"
      ],
      "text/plain": [
       "ora         BNSSG  Cornwall  Devon  Dorset  Gloucestershire  OOA  Somerset  \\\n",
       "actual_dt                                                                    \n",
       "2013-12-30  415.0     220.0  502.0   336.0            129.0  NaN     183.0   \n",
       "2013-12-31  420.0     236.0  468.0   302.0            128.0  NaN     180.0   \n",
       "2014-01-01  549.0     341.0  566.0   392.0            157.0  NaN     213.0   \n",
       "2014-01-02  450.0     218.0  499.0   301.0            115.0  NaN     167.0   \n",
       "2014-01-03  419.0     229.0  503.0   304.0            135.0  NaN     195.0   \n",
       "\n",
       "ora          Trust  Wiltshire  \n",
       "actual_dt                      \n",
       "2013-12-30  2042.0      255.0  \n",
       "2013-12-31  1996.0      260.0  \n",
       "2014-01-01  2570.0      351.0  \n",
       "2014-01-02  2013.0      258.0  \n",
       "2014-01-03  2056.0      269.0  "
      ]
     },
     "execution_count": 5,
     "metadata": {},
     "output_type": "execute_result"
    }
   ],
   "source": [
    "clean = pre_process_daily_data(path=PATH, \n",
    "                               observation_col='Actual_Value', \n",
    "                               index_col='Actual_dt')\n",
    "clean.head()"
   ]
  },
  {
   "cell_type": "markdown",
   "metadata": {},
   "source": [
    "## Creating and fitting an Ensemble model to a region\n",
    "\n",
    "The easy way to create an ensemble model is to call the `default_ensemble()` function form the utility module.  This returns the best known forecasting model."
   ]
  },
  {
   "cell_type": "code",
   "execution_count": 6,
   "metadata": {},
   "outputs": [
    {
     "data": {
      "text/plain": [
       "ProphetARIMAEnsemble(order=(1, 1, 3), seasonal_order=(1, 0, 1, 7), prophet_default_alpha={self.alpha})"
      ]
     },
     "execution_count": 6,
     "metadata": {},
     "output_type": "execute_result"
    }
   ],
   "source": [
    "model = default_ensemble()\n",
    "model"
   ]
  },
  {
   "cell_type": "markdown",
   "metadata": {},
   "source": [
    "The code above informs us that the ensemble includes a Regression model with ARIMA errors with parameters (1, 1, 3)(1, 0, 1, 7).  By default a Prophet model will create a 80\\% prediction interval 100(1-alpha)\n",
    "\n",
    "To fit we call the `.fit()` method and pass in a `pd.Series` (or `pd.DataFrame`) that contains the historical observations.  By default you do not need to pass in holidays.  The ensemble will model new years day automatically (via Prophet's holidays function and as a dummy variable in the Regression with ARIMA errors)."
   ]
  },
  {
   "cell_type": "code",
   "execution_count": 7,
   "metadata": {},
   "outputs": [],
   "source": [
    "#example - fitting Wiltshire - this will take a few seconds.\n",
    "model.fit(clean['Wiltshire'])"
   ]
  },
  {
   "cell_type": "markdown",
   "metadata": {},
   "source": [
    "## Forecasting an individual region.\n",
    "\n",
    "Use the `.predict()` method to make a forecast.  The method takes 3 parameters:\n",
    "\n",
    "* **horizon**: int - the forecast horizon e.g. 84 days\n",
    "* **alpha**: float, optional (default=0.05) - a value between 0 and 1 and used to construct a 100(1 - alpha) prediction interval. E.g. alpha=0.2 returns a 80\\% interval.  \n",
    "* **return_all_models**: bool, optional (default=False). If sets to true returns the ensemble prediction AND the Prophet and Regression predictions."
   ]
  },
  {
   "cell_type": "code",
   "execution_count": 10,
   "metadata": {},
   "outputs": [
    {
     "data": {
      "text/html": [
       "<div>\n",
       "<style scoped>\n",
       "    .dataframe tbody tr th:only-of-type {\n",
       "        vertical-align: middle;\n",
       "    }\n",
       "\n",
       "    .dataframe tbody tr th {\n",
       "        vertical-align: top;\n",
       "    }\n",
       "\n",
       "    .dataframe thead th {\n",
       "        text-align: right;\n",
       "    }\n",
       "</style>\n",
       "<table border=\"1\" class=\"dataframe\">\n",
       "  <thead>\n",
       "    <tr style=\"text-align: right;\">\n",
       "      <th></th>\n",
       "      <th>yhat</th>\n",
       "      <th>yhat_lower_95</th>\n",
       "      <th>yhat_upper95</th>\n",
       "    </tr>\n",
       "    <tr>\n",
       "      <th>ds</th>\n",
       "      <th></th>\n",
       "      <th></th>\n",
       "      <th></th>\n",
       "    </tr>\n",
       "  </thead>\n",
       "  <tbody>\n",
       "    <tr>\n",
       "      <th>2020-01-01</th>\n",
       "      <td>389.033671</td>\n",
       "      <td>352.591641</td>\n",
       "      <td>425.461895</td>\n",
       "    </tr>\n",
       "    <tr>\n",
       "      <th>2020-01-02</th>\n",
       "      <td>328.488021</td>\n",
       "      <td>291.628199</td>\n",
       "      <td>365.847111</td>\n",
       "    </tr>\n",
       "    <tr>\n",
       "      <th>2020-01-03</th>\n",
       "      <td>332.563272</td>\n",
       "      <td>295.599838</td>\n",
       "      <td>369.578768</td>\n",
       "    </tr>\n",
       "    <tr>\n",
       "      <th>2020-01-04</th>\n",
       "      <td>348.733984</td>\n",
       "      <td>312.142733</td>\n",
       "      <td>386.007147</td>\n",
       "    </tr>\n",
       "    <tr>\n",
       "      <th>2020-01-05</th>\n",
       "      <td>348.858335</td>\n",
       "      <td>311.818218</td>\n",
       "      <td>384.861011</td>\n",
       "    </tr>\n",
       "    <tr>\n",
       "      <th>2020-01-06</th>\n",
       "      <td>335.638559</td>\n",
       "      <td>297.267796</td>\n",
       "      <td>373.163166</td>\n",
       "    </tr>\n",
       "    <tr>\n",
       "      <th>2020-01-07</th>\n",
       "      <td>326.682607</td>\n",
       "      <td>288.813970</td>\n",
       "      <td>363.312506</td>\n",
       "    </tr>\n",
       "  </tbody>\n",
       "</table>\n",
       "</div>"
      ],
      "text/plain": [
       "                  yhat  yhat_lower_95  yhat_upper95\n",
       "ds                                                 \n",
       "2020-01-01  389.033671     352.591641    425.461895\n",
       "2020-01-02  328.488021     291.628199    365.847111\n",
       "2020-01-03  332.563272     295.599838    369.578768\n",
       "2020-01-04  348.733984     312.142733    386.007147\n",
       "2020-01-05  348.858335     311.818218    384.861011\n",
       "2020-01-06  335.638559     297.267796    373.163166\n",
       "2020-01-07  326.682607     288.813970    363.312506"
      ]
     },
     "execution_count": 10,
     "metadata": {},
     "output_type": "execute_result"
    }
   ],
   "source": [
    "#example 1: predict 7 days ahead - remember we have fitted Wiltshire training data.\n",
    "forecast_frame = model.predict(horizon=7)\n",
    "forecast_frame"
   ]
  },
  {
   "cell_type": "markdown",
   "metadata": {},
   "source": [
    "The method returns a `pd.DataFrame` containing mean forecast (yhat) and an upper and lower prediction interval.  The code below demonstrates how to return predictions from both the ARIMA and Prophet models.  We will also return a different prediction interval."
   ]
  },
  {
   "cell_type": "code",
   "execution_count": 11,
   "metadata": {},
   "outputs": [
    {
     "data": {
      "text/html": [
       "<div>\n",
       "<style scoped>\n",
       "    .dataframe tbody tr th:only-of-type {\n",
       "        vertical-align: middle;\n",
       "    }\n",
       "\n",
       "    .dataframe tbody tr th {\n",
       "        vertical-align: top;\n",
       "    }\n",
       "\n",
       "    .dataframe thead th {\n",
       "        text-align: right;\n",
       "    }\n",
       "</style>\n",
       "<table border=\"1\" class=\"dataframe\">\n",
       "  <thead>\n",
       "    <tr style=\"text-align: right;\">\n",
       "      <th></th>\n",
       "      <th>yhat</th>\n",
       "      <th>yhat_lower_80</th>\n",
       "      <th>yhat_upper80</th>\n",
       "      <th>arima_mean</th>\n",
       "      <th>arima_lower_80</th>\n",
       "      <th>arima_upper_80</th>\n",
       "      <th>prophet_mean</th>\n",
       "      <th>prophet_lower_80</th>\n",
       "      <th>prophet_upper_80</th>\n",
       "    </tr>\n",
       "    <tr>\n",
       "      <th>ds</th>\n",
       "      <th></th>\n",
       "      <th></th>\n",
       "      <th></th>\n",
       "      <th></th>\n",
       "      <th></th>\n",
       "      <th></th>\n",
       "      <th></th>\n",
       "      <th></th>\n",
       "      <th></th>\n",
       "    </tr>\n",
       "  </thead>\n",
       "  <tbody>\n",
       "    <tr>\n",
       "      <th>2020-01-01</th>\n",
       "      <td>389.033671</td>\n",
       "      <td>365.216675</td>\n",
       "      <td>412.021036</td>\n",
       "      <td>381.652918</td>\n",
       "      <td>357.811543</td>\n",
       "      <td>405.494293</td>\n",
       "      <td>396.414423</td>\n",
       "      <td>372.621808</td>\n",
       "      <td>418.547779</td>\n",
       "    </tr>\n",
       "    <tr>\n",
       "      <th>2020-01-02</th>\n",
       "      <td>328.488021</td>\n",
       "      <td>304.584836</td>\n",
       "      <td>352.553672</td>\n",
       "      <td>328.893489</td>\n",
       "      <td>304.534189</td>\n",
       "      <td>353.252789</td>\n",
       "      <td>328.082554</td>\n",
       "      <td>304.635482</td>\n",
       "      <td>351.854556</td>\n",
       "    </tr>\n",
       "    <tr>\n",
       "      <th>2020-01-03</th>\n",
       "      <td>332.563272</td>\n",
       "      <td>308.549435</td>\n",
       "      <td>356.265552</td>\n",
       "      <td>333.117808</td>\n",
       "      <td>308.470773</td>\n",
       "      <td>357.764844</td>\n",
       "      <td>332.008735</td>\n",
       "      <td>308.628097</td>\n",
       "      <td>354.766261</td>\n",
       "    </tr>\n",
       "    <tr>\n",
       "      <th>2020-01-04</th>\n",
       "      <td>348.733984</td>\n",
       "      <td>324.550447</td>\n",
       "      <td>372.660558</td>\n",
       "      <td>347.836168</td>\n",
       "      <td>322.927592</td>\n",
       "      <td>372.744744</td>\n",
       "      <td>349.631799</td>\n",
       "      <td>326.173302</td>\n",
       "      <td>372.576373</td>\n",
       "    </tr>\n",
       "    <tr>\n",
       "      <th>2020-01-05</th>\n",
       "      <td>348.858335</td>\n",
       "      <td>325.927962</td>\n",
       "      <td>374.416310</td>\n",
       "      <td>348.568032</td>\n",
       "      <td>323.420965</td>\n",
       "      <td>373.715099</td>\n",
       "      <td>349.148638</td>\n",
       "      <td>328.434960</td>\n",
       "      <td>375.117522</td>\n",
       "    </tr>\n",
       "    <tr>\n",
       "      <th>2020-01-06</th>\n",
       "      <td>335.638559</td>\n",
       "      <td>311.197656</td>\n",
       "      <td>360.184345</td>\n",
       "      <td>337.437881</td>\n",
       "      <td>312.072670</td>\n",
       "      <td>362.803092</td>\n",
       "      <td>333.839236</td>\n",
       "      <td>310.322642</td>\n",
       "      <td>357.565599</td>\n",
       "    </tr>\n",
       "    <tr>\n",
       "      <th>2020-01-07</th>\n",
       "      <td>326.682607</td>\n",
       "      <td>302.086976</td>\n",
       "      <td>350.943181</td>\n",
       "      <td>330.057359</td>\n",
       "      <td>304.492022</td>\n",
       "      <td>355.622696</td>\n",
       "      <td>323.307855</td>\n",
       "      <td>299.681929</td>\n",
       "      <td>346.263666</td>\n",
       "    </tr>\n",
       "  </tbody>\n",
       "</table>\n",
       "</div>"
      ],
      "text/plain": [
       "                  yhat  yhat_lower_80  yhat_upper80  arima_mean  \\\n",
       "ds                                                                \n",
       "2020-01-01  389.033671     365.216675    412.021036  381.652918   \n",
       "2020-01-02  328.488021     304.584836    352.553672  328.893489   \n",
       "2020-01-03  332.563272     308.549435    356.265552  333.117808   \n",
       "2020-01-04  348.733984     324.550447    372.660558  347.836168   \n",
       "2020-01-05  348.858335     325.927962    374.416310  348.568032   \n",
       "2020-01-06  335.638559     311.197656    360.184345  337.437881   \n",
       "2020-01-07  326.682607     302.086976    350.943181  330.057359   \n",
       "\n",
       "            arima_lower_80  arima_upper_80  prophet_mean  prophet_lower_80  \\\n",
       "ds                                                                           \n",
       "2020-01-01      357.811543      405.494293    396.414423        372.621808   \n",
       "2020-01-02      304.534189      353.252789    328.082554        304.635482   \n",
       "2020-01-03      308.470773      357.764844    332.008735        308.628097   \n",
       "2020-01-04      322.927592      372.744744    349.631799        326.173302   \n",
       "2020-01-05      323.420965      373.715099    349.148638        328.434960   \n",
       "2020-01-06      312.072670      362.803092    333.839236        310.322642   \n",
       "2020-01-07      304.492022      355.622696    323.307855        299.681929   \n",
       "\n",
       "            prophet_upper_80  \n",
       "ds                            \n",
       "2020-01-01        418.547779  \n",
       "2020-01-02        351.854556  \n",
       "2020-01-03        354.766261  \n",
       "2020-01-04        372.576373  \n",
       "2020-01-05        375.117522  \n",
       "2020-01-06        357.565599  \n",
       "2020-01-07        346.263666  "
      ]
     },
     "execution_count": 11,
     "metadata": {},
     "output_type": "execute_result"
    }
   ],
   "source": [
    "#example 2: predict 7 days ahead, return 80% PI and individual model preds\n",
    "forecast_frame = model.predict(horizon=7, alpha=0.2, return_all_models=True)\n",
    "forecast_frame"
   ]
  },
  {
   "cell_type": "markdown",
   "metadata": {},
   "source": [
    "## An 'all in one' forecast function\n",
    "\n",
    "As an alternative to the above the `utility` module contains a convenience function called `forecast`.  This is an all-in-one function.  Just pass in your training data (for a single time series) and horizon."
   ]
  },
  {
   "cell_type": "code",
   "execution_count": 12,
   "metadata": {},
   "outputs": [
    {
     "data": {
      "text/html": [
       "<div>\n",
       "<style scoped>\n",
       "    .dataframe tbody tr th:only-of-type {\n",
       "        vertical-align: middle;\n",
       "    }\n",
       "\n",
       "    .dataframe tbody tr th {\n",
       "        vertical-align: top;\n",
       "    }\n",
       "\n",
       "    .dataframe thead th {\n",
       "        text-align: right;\n",
       "    }\n",
       "</style>\n",
       "<table border=\"1\" class=\"dataframe\">\n",
       "  <thead>\n",
       "    <tr style=\"text-align: right;\">\n",
       "      <th></th>\n",
       "      <th>yhat</th>\n",
       "      <th>yhat_lower_80</th>\n",
       "      <th>yhat_upper80</th>\n",
       "    </tr>\n",
       "    <tr>\n",
       "      <th>ds</th>\n",
       "      <th></th>\n",
       "      <th></th>\n",
       "      <th></th>\n",
       "    </tr>\n",
       "  </thead>\n",
       "  <tbody>\n",
       "    <tr>\n",
       "      <th>2020-01-01</th>\n",
       "      <td>389.033671</td>\n",
       "      <td>365.418638</td>\n",
       "      <td>411.813435</td>\n",
       "    </tr>\n",
       "    <tr>\n",
       "      <th>2020-01-02</th>\n",
       "      <td>328.488021</td>\n",
       "      <td>304.447560</td>\n",
       "      <td>353.369776</td>\n",
       "    </tr>\n",
       "    <tr>\n",
       "      <th>2020-01-03</th>\n",
       "      <td>332.563272</td>\n",
       "      <td>308.652606</td>\n",
       "      <td>357.045318</td>\n",
       "    </tr>\n",
       "    <tr>\n",
       "      <th>2020-01-04</th>\n",
       "      <td>348.733984</td>\n",
       "      <td>325.192503</td>\n",
       "      <td>372.853248</td>\n",
       "    </tr>\n",
       "    <tr>\n",
       "      <th>2020-01-05</th>\n",
       "      <td>348.858335</td>\n",
       "      <td>324.854773</td>\n",
       "      <td>373.090575</td>\n",
       "    </tr>\n",
       "    <tr>\n",
       "      <th>2020-01-06</th>\n",
       "      <td>335.638559</td>\n",
       "      <td>311.689260</td>\n",
       "      <td>360.813569</td>\n",
       "    </tr>\n",
       "  </tbody>\n",
       "</table>\n",
       "</div>"
      ],
      "text/plain": [
       "                  yhat  yhat_lower_80  yhat_upper80\n",
       "ds                                                 \n",
       "2020-01-01  389.033671     365.418638    411.813435\n",
       "2020-01-02  328.488021     304.447560    353.369776\n",
       "2020-01-03  332.563272     308.652606    357.045318\n",
       "2020-01-04  348.733984     325.192503    372.853248\n",
       "2020-01-05  348.858335     324.854773    373.090575\n",
       "2020-01-06  335.638559     311.689260    360.813569"
      ]
     },
     "execution_count": 12,
     "metadata": {},
     "output_type": "execute_result"
    }
   ],
   "source": [
    "forecast(clean['Wiltshire'], \n",
    "         horizon=6, \n",
    "         alpha=0.2,\n",
    "         return_all_models=False)"
   ]
  },
  {
   "cell_type": "markdown",
   "metadata": {},
   "source": [
    "## Forecasting multiple regions in one go.\n",
    "\n",
    "If there are multiple regions to forecast put all of the training data into the same frame (see `clean`) and pass this to the `multi_region_forecast()` function from the `utility` module.\n",
    "\n",
    "This is an efficient function as it runs the forecasts in parrallel across your CPU cores.  E.g. if you have a 4 cores then 4 regions will be forecast simultaneously.  This will reduce model run time (assuming you have more than one Core)."
   ]
  },
  {
   "cell_type": "code",
   "execution_count": 13,
   "metadata": {},
   "outputs": [],
   "source": [
    "#note depending on your machine this will take 20 seconds to run.\n",
    "forecasts = multi_region_forecast(y_train=clean, horizon=7)"
   ]
  },
  {
   "cell_type": "code",
   "execution_count": 14,
   "metadata": {},
   "outputs": [
    {
     "data": {
      "text/plain": [
       "list"
      ]
     },
     "execution_count": 14,
     "metadata": {},
     "output_type": "execute_result"
    }
   ],
   "source": [
    "#the function returns a list of pd.DataFrame's\n",
    "type(forecasts)"
   ]
  },
  {
   "cell_type": "code",
   "execution_count": 15,
   "metadata": {},
   "outputs": [
    {
     "data": {
      "text/html": [
       "<div>\n",
       "<style scoped>\n",
       "    .dataframe tbody tr th:only-of-type {\n",
       "        vertical-align: middle;\n",
       "    }\n",
       "\n",
       "    .dataframe tbody tr th {\n",
       "        vertical-align: top;\n",
       "    }\n",
       "\n",
       "    .dataframe thead th {\n",
       "        text-align: right;\n",
       "    }\n",
       "</style>\n",
       "<table border=\"1\" class=\"dataframe\">\n",
       "  <thead>\n",
       "    <tr style=\"text-align: right;\">\n",
       "      <th></th>\n",
       "      <th>yhat</th>\n",
       "      <th>yhat_lower_95</th>\n",
       "      <th>yhat_upper95</th>\n",
       "    </tr>\n",
       "    <tr>\n",
       "      <th>ds</th>\n",
       "      <th></th>\n",
       "      <th></th>\n",
       "      <th></th>\n",
       "    </tr>\n",
       "  </thead>\n",
       "  <tbody>\n",
       "    <tr>\n",
       "      <th>2020-01-01</th>\n",
       "      <td>667.046404</td>\n",
       "      <td>621.206196</td>\n",
       "      <td>715.990973</td>\n",
       "    </tr>\n",
       "    <tr>\n",
       "      <th>2020-01-02</th>\n",
       "      <td>545.976607</td>\n",
       "      <td>498.818996</td>\n",
       "      <td>595.299378</td>\n",
       "    </tr>\n",
       "    <tr>\n",
       "      <th>2020-01-03</th>\n",
       "      <td>553.843168</td>\n",
       "      <td>503.506693</td>\n",
       "      <td>603.142045</td>\n",
       "    </tr>\n",
       "    <tr>\n",
       "      <th>2020-01-04</th>\n",
       "      <td>588.031241</td>\n",
       "      <td>539.256041</td>\n",
       "      <td>636.383141</td>\n",
       "    </tr>\n",
       "    <tr>\n",
       "      <th>2020-01-05</th>\n",
       "      <td>579.761990</td>\n",
       "      <td>529.775283</td>\n",
       "      <td>629.330352</td>\n",
       "    </tr>\n",
       "    <tr>\n",
       "      <th>2020-01-06</th>\n",
       "      <td>554.881950</td>\n",
       "      <td>506.283011</td>\n",
       "      <td>604.049023</td>\n",
       "    </tr>\n",
       "    <tr>\n",
       "      <th>2020-01-07</th>\n",
       "      <td>537.738373</td>\n",
       "      <td>488.384776</td>\n",
       "      <td>588.521742</td>\n",
       "    </tr>\n",
       "    <tr>\n",
       "      <th>2020-01-08</th>\n",
       "      <td>534.353752</td>\n",
       "      <td>484.632867</td>\n",
       "      <td>582.344943</td>\n",
       "    </tr>\n",
       "  </tbody>\n",
       "</table>\n",
       "</div>"
      ],
      "text/plain": [
       "                  yhat  yhat_lower_95  yhat_upper95\n",
       "ds                                                 \n",
       "2020-01-01  667.046404     621.206196    715.990973\n",
       "2020-01-02  545.976607     498.818996    595.299378\n",
       "2020-01-03  553.843168     503.506693    603.142045\n",
       "2020-01-04  588.031241     539.256041    636.383141\n",
       "2020-01-05  579.761990     529.775283    629.330352\n",
       "2020-01-06  554.881950     506.283011    604.049023\n",
       "2020-01-07  537.738373     488.384776    588.521742\n",
       "2020-01-08  534.353752     484.632867    582.344943"
      ]
     },
     "execution_count": 15,
     "metadata": {},
     "output_type": "execute_result"
    }
   ],
   "source": [
    "#results for BNSSG\n",
    "forecasts[0]"
   ]
  },
  {
   "cell_type": "code",
   "execution_count": 16,
   "metadata": {},
   "outputs": [
    {
     "data": {
      "text/html": [
       "<div>\n",
       "<style scoped>\n",
       "    .dataframe tbody tr th:only-of-type {\n",
       "        vertical-align: middle;\n",
       "    }\n",
       "\n",
       "    .dataframe tbody tr th {\n",
       "        vertical-align: top;\n",
       "    }\n",
       "\n",
       "    .dataframe thead th {\n",
       "        text-align: right;\n",
       "    }\n",
       "</style>\n",
       "<table border=\"1\" class=\"dataframe\">\n",
       "  <thead>\n",
       "    <tr style=\"text-align: right;\">\n",
       "      <th></th>\n",
       "      <th>yhat</th>\n",
       "      <th>yhat_lower_95</th>\n",
       "      <th>yhat_upper95</th>\n",
       "    </tr>\n",
       "    <tr>\n",
       "      <th>ds</th>\n",
       "      <th></th>\n",
       "      <th></th>\n",
       "      <th></th>\n",
       "    </tr>\n",
       "  </thead>\n",
       "  <tbody>\n",
       "    <tr>\n",
       "      <th>2020-01-01</th>\n",
       "      <td>317.561603</td>\n",
       "      <td>286.059778</td>\n",
       "      <td>349.883321</td>\n",
       "    </tr>\n",
       "    <tr>\n",
       "      <th>2020-01-02</th>\n",
       "      <td>252.695551</td>\n",
       "      <td>219.958918</td>\n",
       "      <td>286.241994</td>\n",
       "    </tr>\n",
       "    <tr>\n",
       "      <th>2020-01-03</th>\n",
       "      <td>255.669320</td>\n",
       "      <td>223.372014</td>\n",
       "      <td>287.314004</td>\n",
       "    </tr>\n",
       "    <tr>\n",
       "      <th>2020-01-04</th>\n",
       "      <td>271.179998</td>\n",
       "      <td>238.070727</td>\n",
       "      <td>303.273731</td>\n",
       "    </tr>\n",
       "    <tr>\n",
       "      <th>2020-01-05</th>\n",
       "      <td>274.010956</td>\n",
       "      <td>240.328324</td>\n",
       "      <td>306.819183</td>\n",
       "    </tr>\n",
       "    <tr>\n",
       "      <th>2020-01-06</th>\n",
       "      <td>261.538837</td>\n",
       "      <td>228.391769</td>\n",
       "      <td>295.286874</td>\n",
       "    </tr>\n",
       "    <tr>\n",
       "      <th>2020-01-07</th>\n",
       "      <td>250.725712</td>\n",
       "      <td>218.711811</td>\n",
       "      <td>284.210147</td>\n",
       "    </tr>\n",
       "    <tr>\n",
       "      <th>2020-01-08</th>\n",
       "      <td>248.816783</td>\n",
       "      <td>215.832096</td>\n",
       "      <td>281.931705</td>\n",
       "    </tr>\n",
       "  </tbody>\n",
       "</table>\n",
       "</div>"
      ],
      "text/plain": [
       "                  yhat  yhat_lower_95  yhat_upper95\n",
       "ds                                                 \n",
       "2020-01-01  317.561603     286.059778    349.883321\n",
       "2020-01-02  252.695551     219.958918    286.241994\n",
       "2020-01-03  255.669320     223.372014    287.314004\n",
       "2020-01-04  271.179998     238.070727    303.273731\n",
       "2020-01-05  274.010956     240.328324    306.819183\n",
       "2020-01-06  261.538837     228.391769    295.286874\n",
       "2020-01-07  250.725712     218.711811    284.210147\n",
       "2020-01-08  248.816783     215.832096    281.931705"
      ]
     },
     "execution_count": 16,
     "metadata": {},
     "output_type": "execute_result"
    }
   ],
   "source": [
    "#results for Cornwall is at index 1 etc.\n",
    "forecasts[1]"
   ]
  },
  {
   "cell_type": "code",
   "execution_count": null,
   "metadata": {},
   "outputs": [],
   "source": []
  }
 ],
 "metadata": {
  "kernelspec": {
   "display_name": "Python 3",
   "language": "python",
   "name": "python3"
  },
  "language_info": {
   "codemirror_mode": {
    "name": "ipython",
    "version": 3
   },
   "file_extension": ".py",
   "mimetype": "text/x-python",
   "name": "python",
   "nbconvert_exporter": "python",
   "pygments_lexer": "ipython3",
   "version": "3.7.7"
  }
 },
 "nbformat": 4,
 "nbformat_minor": 4
}
