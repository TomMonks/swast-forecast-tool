{
 "cells": [
  {
   "cell_type": "markdown",
   "metadata": {},
   "source": [
    "# SWAST Forecasting Tool\n",
    "\n",
    "An ensemble of Regression with ARIMA Errors and Facebook Prophet"
   ]
  },
  {
   "cell_type": "code",
   "execution_count": 42,
   "metadata": {},
   "outputs": [],
   "source": [
    "import pandas as pd\n",
    "import numpy as np\n",
    "import matplotlib.pyplot as plt\n",
    "\n",
    "\n",
    "import warnings\n",
    "warnings.filterwarnings('ignore')"
   ]
  },
  {
   "cell_type": "markdown",
   "metadata": {},
   "source": [
    "check statsmodels version"
   ]
  },
  {
   "cell_type": "code",
   "execution_count": 43,
   "metadata": {},
   "outputs": [
    {
     "name": "stdout",
     "output_type": "stream",
     "text": [
      "0.11.1\n"
     ]
    },
    {
     "data": {
      "text/plain": [
       "'/home/tom/Documents/code/swast-forecast-tool'"
      ]
     },
     "execution_count": 43,
     "metadata": {},
     "output_type": "execute_result"
    }
   ],
   "source": [
    "import statsmodels as sm\n",
    "print(sm.__version__)\n",
    "\n",
    "import os\n",
    "\n",
    "os.getcwd()"
   ]
  },
  {
   "cell_type": "code",
   "execution_count": 44,
   "metadata": {},
   "outputs": [],
   "source": [
    "from swast_forecast.utility import (default_ensemble,\n",
    "                                    forecast, \n",
    "                                    multi_region_forecast, \n",
    "                                    built_in_synthetic_data)"
   ]
  },
  {
   "cell_type": "markdown",
   "metadata": {},
   "source": [
    "## Constants"
   ]
  },
  {
   "cell_type": "markdown",
   "metadata": {},
   "source": [
    "## Read in the data"
   ]
  },
  {
   "cell_type": "code",
   "execution_count": 45,
   "metadata": {},
   "outputs": [
    {
     "data": {
      "text/html": [
       "<div>\n",
       "<style scoped>\n",
       "    .dataframe tbody tr th:only-of-type {\n",
       "        vertical-align: middle;\n",
       "    }\n",
       "\n",
       "    .dataframe tbody tr th {\n",
       "        vertical-align: top;\n",
       "    }\n",
       "\n",
       "    .dataframe thead th {\n",
       "        text-align: right;\n",
       "    }\n",
       "</style>\n",
       "<table border=\"1\" class=\"dataframe\">\n",
       "  <thead>\n",
       "    <tr style=\"text-align: right;\">\n",
       "      <th></th>\n",
       "      <th>trust1_syn</th>\n",
       "      <th>trust2_syn</th>\n",
       "    </tr>\n",
       "    <tr>\n",
       "      <th>actual_dt</th>\n",
       "      <th></th>\n",
       "      <th></th>\n",
       "    </tr>\n",
       "  </thead>\n",
       "  <tbody>\n",
       "    <tr>\n",
       "      <th>2014-01-01</th>\n",
       "      <td>454</td>\n",
       "      <td>372</td>\n",
       "    </tr>\n",
       "    <tr>\n",
       "      <th>2014-01-02</th>\n",
       "      <td>358</td>\n",
       "      <td>280</td>\n",
       "    </tr>\n",
       "    <tr>\n",
       "      <th>2014-01-03</th>\n",
       "      <td>366</td>\n",
       "      <td>286</td>\n",
       "    </tr>\n",
       "    <tr>\n",
       "      <th>2014-01-04</th>\n",
       "      <td>337</td>\n",
       "      <td>313</td>\n",
       "    </tr>\n",
       "    <tr>\n",
       "      <th>2014-01-05</th>\n",
       "      <td>338</td>\n",
       "      <td>284</td>\n",
       "    </tr>\n",
       "  </tbody>\n",
       "</table>\n",
       "</div>"
      ],
      "text/plain": [
       "            trust1_syn  trust2_syn\n",
       "actual_dt                         \n",
       "2014-01-01         454         372\n",
       "2014-01-02         358         280\n",
       "2014-01-03         366         286\n",
       "2014-01-04         337         313\n",
       "2014-01-05         338         284"
      ]
     },
     "execution_count": 45,
     "metadata": {},
     "output_type": "execute_result"
    }
   ],
   "source": [
    "clean = built_in_synthetic_data()\n",
    "clean.head()"
   ]
  },
  {
   "cell_type": "markdown",
   "metadata": {},
   "source": [
    "## Creating and fitting an Ensemble model to a region\n",
    "\n",
    "The easy way to create an ensemble model is to call the `default_ensemble()` function form the utility module.  This returns the best known forecasting model."
   ]
  },
  {
   "cell_type": "code",
   "execution_count": 46,
   "metadata": {},
   "outputs": [
    {
     "data": {
      "text/plain": [
       "ProphetARIMAEnsemble(order=(1, 1, 3), seasonal_order=(1, 0, 1, 7), prophet_default_alpha={self.alpha})"
      ]
     },
     "execution_count": 46,
     "metadata": {},
     "output_type": "execute_result"
    }
   ],
   "source": [
    "model = default_ensemble()\n",
    "model"
   ]
  },
  {
   "cell_type": "markdown",
   "metadata": {},
   "source": [
    "The code above informs us that the ensemble includes a Regression model with ARIMA errors with parameters (1, 1, 3)(1, 0, 1, 7).  By default a Prophet model will create a 80\\% prediction interval 100(1-alpha)\n",
    "\n",
    "To fit we call the `.fit()` method and pass in a `pd.Series` (or `pd.DataFrame`) that contains the historical observations.  By default you do not need to pass in holidays.  The ensemble will model new years day automatically (via Prophet's holidays function and as a dummy variable in the Regression with ARIMA errors)."
   ]
  },
  {
   "cell_type": "code",
   "execution_count": 47,
   "metadata": {},
   "outputs": [],
   "source": [
    "#example - fitting Wiltshire - this will take a few seconds.\n",
    "model.fit(clean['trust1_syn'])"
   ]
  },
  {
   "cell_type": "markdown",
   "metadata": {},
   "source": [
    "## Forecasting an individual region.\n",
    "\n",
    "Use the `.predict()` method to make a forecast.  The method takes 3 parameters:\n",
    "\n",
    "* **horizon**: int - the forecast horizon e.g. 84 days\n",
    "* **alpha**: float, optional (default=0.05) - a value between 0 and 1 and used to construct a 100(1 - alpha) prediction interval. E.g. alpha=0.2 returns a 80\\% interval.  \n",
    "* **return_all_models**: bool, optional (default=False). If sets to true returns the ensemble prediction AND the Prophet and Regression predictions."
   ]
  },
  {
   "cell_type": "code",
   "execution_count": 48,
   "metadata": {},
   "outputs": [
    {
     "data": {
      "text/html": [
       "<div>\n",
       "<style scoped>\n",
       "    .dataframe tbody tr th:only-of-type {\n",
       "        vertical-align: middle;\n",
       "    }\n",
       "\n",
       "    .dataframe tbody tr th {\n",
       "        vertical-align: top;\n",
       "    }\n",
       "\n",
       "    .dataframe thead th {\n",
       "        text-align: right;\n",
       "    }\n",
       "</style>\n",
       "<table border=\"1\" class=\"dataframe\">\n",
       "  <thead>\n",
       "    <tr style=\"text-align: right;\">\n",
       "      <th></th>\n",
       "      <th>yhat</th>\n",
       "      <th>yhat_lower_95</th>\n",
       "      <th>yhat_upper95</th>\n",
       "    </tr>\n",
       "    <tr>\n",
       "      <th>ds</th>\n",
       "      <th></th>\n",
       "      <th></th>\n",
       "      <th></th>\n",
       "    </tr>\n",
       "  </thead>\n",
       "  <tbody>\n",
       "    <tr>\n",
       "      <th>2020-01-01</th>\n",
       "      <td>483.228654</td>\n",
       "      <td>449.681825</td>\n",
       "      <td>517.501546</td>\n",
       "    </tr>\n",
       "    <tr>\n",
       "      <th>2020-01-02</th>\n",
       "      <td>399.154484</td>\n",
       "      <td>365.032580</td>\n",
       "      <td>433.443876</td>\n",
       "    </tr>\n",
       "    <tr>\n",
       "      <th>2020-01-03</th>\n",
       "      <td>403.186663</td>\n",
       "      <td>368.176346</td>\n",
       "      <td>437.129631</td>\n",
       "    </tr>\n",
       "    <tr>\n",
       "      <th>2020-01-04</th>\n",
       "      <td>424.009261</td>\n",
       "      <td>389.819275</td>\n",
       "      <td>459.289341</td>\n",
       "    </tr>\n",
       "    <tr>\n",
       "      <th>2020-01-05</th>\n",
       "      <td>420.580550</td>\n",
       "      <td>385.690555</td>\n",
       "      <td>455.715150</td>\n",
       "    </tr>\n",
       "    <tr>\n",
       "      <th>2020-01-06</th>\n",
       "      <td>407.306482</td>\n",
       "      <td>371.531532</td>\n",
       "      <td>442.592187</td>\n",
       "    </tr>\n",
       "    <tr>\n",
       "      <th>2020-01-07</th>\n",
       "      <td>392.407264</td>\n",
       "      <td>357.668120</td>\n",
       "      <td>427.055290</td>\n",
       "    </tr>\n",
       "  </tbody>\n",
       "</table>\n",
       "</div>"
      ],
      "text/plain": [
       "                  yhat  yhat_lower_95  yhat_upper95\n",
       "ds                                                 \n",
       "2020-01-01  483.228654     449.681825    517.501546\n",
       "2020-01-02  399.154484     365.032580    433.443876\n",
       "2020-01-03  403.186663     368.176346    437.129631\n",
       "2020-01-04  424.009261     389.819275    459.289341\n",
       "2020-01-05  420.580550     385.690555    455.715150\n",
       "2020-01-06  407.306482     371.531532    442.592187\n",
       "2020-01-07  392.407264     357.668120    427.055290"
      ]
     },
     "execution_count": 48,
     "metadata": {},
     "output_type": "execute_result"
    }
   ],
   "source": [
    "#example 1: predict 7 days ahead - remember we have fitted Wiltshire training data.\n",
    "forecast_frame = model.predict(horizon=7)\n",
    "forecast_frame"
   ]
  },
  {
   "cell_type": "markdown",
   "metadata": {},
   "source": [
    "The method returns a `pd.DataFrame` containing mean forecast (yhat) and an upper and lower prediction interval.  The code below demonstrates how to return predictions from both the ARIMA and Prophet models.  We will also return a different prediction interval."
   ]
  },
  {
   "cell_type": "code",
   "execution_count": 49,
   "metadata": {},
   "outputs": [
    {
     "data": {
      "text/html": [
       "<div>\n",
       "<style scoped>\n",
       "    .dataframe tbody tr th:only-of-type {\n",
       "        vertical-align: middle;\n",
       "    }\n",
       "\n",
       "    .dataframe tbody tr th {\n",
       "        vertical-align: top;\n",
       "    }\n",
       "\n",
       "    .dataframe thead th {\n",
       "        text-align: right;\n",
       "    }\n",
       "</style>\n",
       "<table border=\"1\" class=\"dataframe\">\n",
       "  <thead>\n",
       "    <tr style=\"text-align: right;\">\n",
       "      <th></th>\n",
       "      <th>yhat</th>\n",
       "      <th>yhat_lower_80</th>\n",
       "      <th>yhat_upper80</th>\n",
       "      <th>arima_mean</th>\n",
       "      <th>arima_lower_80</th>\n",
       "      <th>arima_upper_80</th>\n",
       "      <th>prophet_mean</th>\n",
       "      <th>prophet_lower_80</th>\n",
       "      <th>prophet_upper_80</th>\n",
       "    </tr>\n",
       "    <tr>\n",
       "      <th>ds</th>\n",
       "      <th></th>\n",
       "      <th></th>\n",
       "      <th></th>\n",
       "      <th></th>\n",
       "      <th></th>\n",
       "      <th></th>\n",
       "      <th></th>\n",
       "      <th></th>\n",
       "      <th></th>\n",
       "    </tr>\n",
       "  </thead>\n",
       "  <tbody>\n",
       "    <tr>\n",
       "      <th>2020-01-01</th>\n",
       "      <td>483.228654</td>\n",
       "      <td>460.399315</td>\n",
       "      <td>504.427639</td>\n",
       "      <td>478.461571</td>\n",
       "      <td>456.823686</td>\n",
       "      <td>500.099456</td>\n",
       "      <td>487.995737</td>\n",
       "      <td>463.974944</td>\n",
       "      <td>508.755821</td>\n",
       "    </tr>\n",
       "    <tr>\n",
       "      <th>2020-01-02</th>\n",
       "      <td>399.154484</td>\n",
       "      <td>375.782301</td>\n",
       "      <td>420.921360</td>\n",
       "      <td>404.308921</td>\n",
       "      <td>381.613217</td>\n",
       "      <td>427.004625</td>\n",
       "      <td>394.000046</td>\n",
       "      <td>369.951385</td>\n",
       "      <td>414.838095</td>\n",
       "    </tr>\n",
       "    <tr>\n",
       "      <th>2020-01-03</th>\n",
       "      <td>403.186663</td>\n",
       "      <td>380.122411</td>\n",
       "      <td>426.531179</td>\n",
       "      <td>408.034377</td>\n",
       "      <td>384.844496</td>\n",
       "      <td>431.224258</td>\n",
       "      <td>398.338950</td>\n",
       "      <td>375.400326</td>\n",
       "      <td>421.838101</td>\n",
       "    </tr>\n",
       "    <tr>\n",
       "      <th>2020-01-04</th>\n",
       "      <td>424.009261</td>\n",
       "      <td>400.956137</td>\n",
       "      <td>446.908917</td>\n",
       "      <td>427.915324</td>\n",
       "      <td>404.405985</td>\n",
       "      <td>451.424663</td>\n",
       "      <td>420.103197</td>\n",
       "      <td>397.506289</td>\n",
       "      <td>442.393171</td>\n",
       "    </tr>\n",
       "    <tr>\n",
       "      <th>2020-01-05</th>\n",
       "      <td>420.580550</td>\n",
       "      <td>398.369566</td>\n",
       "      <td>443.471270</td>\n",
       "      <td>425.293454</td>\n",
       "      <td>401.559746</td>\n",
       "      <td>449.027162</td>\n",
       "      <td>415.867647</td>\n",
       "      <td>395.179386</td>\n",
       "      <td>437.915379</td>\n",
       "    </tr>\n",
       "    <tr>\n",
       "      <th>2020-01-06</th>\n",
       "      <td>407.306482</td>\n",
       "      <td>385.388683</td>\n",
       "      <td>430.004443</td>\n",
       "      <td>413.438024</td>\n",
       "      <td>389.534225</td>\n",
       "      <td>437.341822</td>\n",
       "      <td>401.174939</td>\n",
       "      <td>381.243140</td>\n",
       "      <td>422.667064</td>\n",
       "    </tr>\n",
       "    <tr>\n",
       "      <th>2020-01-07</th>\n",
       "      <td>392.407264</td>\n",
       "      <td>370.958182</td>\n",
       "      <td>415.920163</td>\n",
       "      <td>399.936205</td>\n",
       "      <td>375.894595</td>\n",
       "      <td>423.977815</td>\n",
       "      <td>384.878324</td>\n",
       "      <td>366.021770</td>\n",
       "      <td>407.862510</td>\n",
       "    </tr>\n",
       "  </tbody>\n",
       "</table>\n",
       "</div>"
      ],
      "text/plain": [
       "                  yhat  yhat_lower_80  yhat_upper80  arima_mean  \\\n",
       "ds                                                                \n",
       "2020-01-01  483.228654     460.399315    504.427639  478.461571   \n",
       "2020-01-02  399.154484     375.782301    420.921360  404.308921   \n",
       "2020-01-03  403.186663     380.122411    426.531179  408.034377   \n",
       "2020-01-04  424.009261     400.956137    446.908917  427.915324   \n",
       "2020-01-05  420.580550     398.369566    443.471270  425.293454   \n",
       "2020-01-06  407.306482     385.388683    430.004443  413.438024   \n",
       "2020-01-07  392.407264     370.958182    415.920163  399.936205   \n",
       "\n",
       "            arima_lower_80  arima_upper_80  prophet_mean  prophet_lower_80  \\\n",
       "ds                                                                           \n",
       "2020-01-01      456.823686      500.099456    487.995737        463.974944   \n",
       "2020-01-02      381.613217      427.004625    394.000046        369.951385   \n",
       "2020-01-03      384.844496      431.224258    398.338950        375.400326   \n",
       "2020-01-04      404.405985      451.424663    420.103197        397.506289   \n",
       "2020-01-05      401.559746      449.027162    415.867647        395.179386   \n",
       "2020-01-06      389.534225      437.341822    401.174939        381.243140   \n",
       "2020-01-07      375.894595      423.977815    384.878324        366.021770   \n",
       "\n",
       "            prophet_upper_80  \n",
       "ds                            \n",
       "2020-01-01        508.755821  \n",
       "2020-01-02        414.838095  \n",
       "2020-01-03        421.838101  \n",
       "2020-01-04        442.393171  \n",
       "2020-01-05        437.915379  \n",
       "2020-01-06        422.667064  \n",
       "2020-01-07        407.862510  "
      ]
     },
     "execution_count": 49,
     "metadata": {},
     "output_type": "execute_result"
    }
   ],
   "source": [
    "#example 2: predict 7 days ahead, return 80% PI and individual model preds\n",
    "forecast_frame = model.predict(horizon=7, alpha=0.2, return_all_models=True)\n",
    "forecast_frame"
   ]
  },
  {
   "cell_type": "markdown",
   "metadata": {},
   "source": [
    "## An 'all in one' forecast function\n",
    "\n",
    "As an alternative to the above the `utility` module contains a convenience function called `forecast`.  This is an all-in-one function.  Just pass in your training data (for a single time series) and horizon."
   ]
  },
  {
   "cell_type": "code",
   "execution_count": 50,
   "metadata": {},
   "outputs": [
    {
     "data": {
      "text/html": [
       "<div>\n",
       "<style scoped>\n",
       "    .dataframe tbody tr th:only-of-type {\n",
       "        vertical-align: middle;\n",
       "    }\n",
       "\n",
       "    .dataframe tbody tr th {\n",
       "        vertical-align: top;\n",
       "    }\n",
       "\n",
       "    .dataframe thead th {\n",
       "        text-align: right;\n",
       "    }\n",
       "</style>\n",
       "<table border=\"1\" class=\"dataframe\">\n",
       "  <thead>\n",
       "    <tr style=\"text-align: right;\">\n",
       "      <th></th>\n",
       "      <th>yhat</th>\n",
       "      <th>yhat_lower_80</th>\n",
       "      <th>yhat_upper80</th>\n",
       "    </tr>\n",
       "    <tr>\n",
       "      <th>ds</th>\n",
       "      <th></th>\n",
       "      <th></th>\n",
       "      <th></th>\n",
       "    </tr>\n",
       "  </thead>\n",
       "  <tbody>\n",
       "    <tr>\n",
       "      <th>2020-01-01</th>\n",
       "      <td>417.046162</td>\n",
       "      <td>398.480458</td>\n",
       "      <td>435.209888</td>\n",
       "    </tr>\n",
       "    <tr>\n",
       "      <th>2020-01-02</th>\n",
       "      <td>346.195936</td>\n",
       "      <td>326.706820</td>\n",
       "      <td>364.667204</td>\n",
       "    </tr>\n",
       "    <tr>\n",
       "      <th>2020-01-03</th>\n",
       "      <td>351.526920</td>\n",
       "      <td>332.632039</td>\n",
       "      <td>370.330537</td>\n",
       "    </tr>\n",
       "    <tr>\n",
       "      <th>2020-01-04</th>\n",
       "      <td>368.416428</td>\n",
       "      <td>349.794235</td>\n",
       "      <td>387.674724</td>\n",
       "    </tr>\n",
       "    <tr>\n",
       "      <th>2020-01-05</th>\n",
       "      <td>365.933441</td>\n",
       "      <td>346.941027</td>\n",
       "      <td>385.340333</td>\n",
       "    </tr>\n",
       "    <tr>\n",
       "      <th>...</th>\n",
       "      <td>...</td>\n",
       "      <td>...</td>\n",
       "      <td>...</td>\n",
       "    </tr>\n",
       "    <tr>\n",
       "      <th>2020-12-26</th>\n",
       "      <td>387.699087</td>\n",
       "      <td>356.718634</td>\n",
       "      <td>418.044011</td>\n",
       "    </tr>\n",
       "    <tr>\n",
       "      <th>2020-12-27</th>\n",
       "      <td>385.386028</td>\n",
       "      <td>354.432477</td>\n",
       "      <td>417.918686</td>\n",
       "    </tr>\n",
       "    <tr>\n",
       "      <th>2020-12-28</th>\n",
       "      <td>372.920548</td>\n",
       "      <td>341.356313</td>\n",
       "      <td>404.472659</td>\n",
       "    </tr>\n",
       "    <tr>\n",
       "      <th>2020-12-29</th>\n",
       "      <td>363.119939</td>\n",
       "      <td>330.201020</td>\n",
       "      <td>394.725860</td>\n",
       "    </tr>\n",
       "    <tr>\n",
       "      <th>2020-12-30</th>\n",
       "      <td>362.743064</td>\n",
       "      <td>330.496682</td>\n",
       "      <td>394.323019</td>\n",
       "    </tr>\n",
       "  </tbody>\n",
       "</table>\n",
       "<p>365 rows × 3 columns</p>\n",
       "</div>"
      ],
      "text/plain": [
       "                  yhat  yhat_lower_80  yhat_upper80\n",
       "ds                                                 \n",
       "2020-01-01  417.046162     398.480458    435.209888\n",
       "2020-01-02  346.195936     326.706820    364.667204\n",
       "2020-01-03  351.526920     332.632039    370.330537\n",
       "2020-01-04  368.416428     349.794235    387.674724\n",
       "2020-01-05  365.933441     346.941027    385.340333\n",
       "...                ...            ...           ...\n",
       "2020-12-26  387.699087     356.718634    418.044011\n",
       "2020-12-27  385.386028     354.432477    417.918686\n",
       "2020-12-28  372.920548     341.356313    404.472659\n",
       "2020-12-29  363.119939     330.201020    394.725860\n",
       "2020-12-30  362.743064     330.496682    394.323019\n",
       "\n",
       "[365 rows x 3 columns]"
      ]
     },
     "execution_count": 50,
     "metadata": {},
     "output_type": "execute_result"
    }
   ],
   "source": [
    "forecast(clean['trust2_syn'], \n",
    "         horizon=365, \n",
    "         alpha=0.2,\n",
    "         return_all_models=False)\n"
   ]
  },
  {
   "cell_type": "markdown",
   "metadata": {},
   "source": [
    "## Forecasting multiple regions in one go.\n",
    "\n",
    "If there are multiple regions to forecast put all of the training data into the same frame (see `clean`) and pass this to the `multi_region_forecast()` function from the `utility` module.\n",
    "\n",
    "This is an efficient function as it runs the forecasts in parrallel across your CPU cores.  E.g. if you have a 4 cores then 4 regions will be forecast simultaneously.  This will reduce model run time (assuming you have more than one Core)."
   ]
  },
  {
   "cell_type": "code",
   "execution_count": 54,
   "metadata": {},
   "outputs": [],
   "source": [
    "#note depending on your machine this will take 20 seconds to run.\n",
    "forecasts = multi_region_forecast(y_train=clean.iloc[-84:], horizon=365)"
   ]
  },
  {
   "cell_type": "code",
   "execution_count": 55,
   "metadata": {},
   "outputs": [
    {
     "data": {
      "text/plain": [
       "list"
      ]
     },
     "execution_count": 55,
     "metadata": {},
     "output_type": "execute_result"
    }
   ],
   "source": [
    "#the function returns a list of pd.DataFrame's\n",
    "type(forecasts)"
   ]
  },
  {
   "cell_type": "code",
   "execution_count": 56,
   "metadata": {},
   "outputs": [
    {
     "data": {
      "text/html": [
       "<div>\n",
       "<style scoped>\n",
       "    .dataframe tbody tr th:only-of-type {\n",
       "        vertical-align: middle;\n",
       "    }\n",
       "\n",
       "    .dataframe tbody tr th {\n",
       "        vertical-align: top;\n",
       "    }\n",
       "\n",
       "    .dataframe thead th {\n",
       "        text-align: right;\n",
       "    }\n",
       "</style>\n",
       "<table border=\"1\" class=\"dataframe\">\n",
       "  <thead>\n",
       "    <tr style=\"text-align: right;\">\n",
       "      <th></th>\n",
       "      <th>yhat</th>\n",
       "      <th>yhat_lower_95</th>\n",
       "      <th>yhat_upper95</th>\n",
       "    </tr>\n",
       "    <tr>\n",
       "      <th>ds</th>\n",
       "      <th></th>\n",
       "      <th></th>\n",
       "      <th></th>\n",
       "    </tr>\n",
       "  </thead>\n",
       "  <tbody>\n",
       "    <tr>\n",
       "      <th>2020-01-01</th>\n",
       "      <td>403.979607</td>\n",
       "      <td>374.889865</td>\n",
       "      <td>433.878640</td>\n",
       "    </tr>\n",
       "    <tr>\n",
       "      <th>2020-01-02</th>\n",
       "      <td>418.907898</td>\n",
       "      <td>389.825120</td>\n",
       "      <td>447.780014</td>\n",
       "    </tr>\n",
       "    <tr>\n",
       "      <th>2020-01-03</th>\n",
       "      <td>414.208289</td>\n",
       "      <td>384.659119</td>\n",
       "      <td>444.139333</td>\n",
       "    </tr>\n",
       "    <tr>\n",
       "      <th>2020-01-04</th>\n",
       "      <td>426.194336</td>\n",
       "      <td>396.263630</td>\n",
       "      <td>456.119254</td>\n",
       "    </tr>\n",
       "    <tr>\n",
       "      <th>2020-01-05</th>\n",
       "      <td>427.284939</td>\n",
       "      <td>397.631594</td>\n",
       "      <td>456.847104</td>\n",
       "    </tr>\n",
       "    <tr>\n",
       "      <th>...</th>\n",
       "      <td>...</td>\n",
       "      <td>...</td>\n",
       "      <td>...</td>\n",
       "    </tr>\n",
       "    <tr>\n",
       "      <th>2020-12-26</th>\n",
       "      <td>512.327404</td>\n",
       "      <td>430.792533</td>\n",
       "      <td>596.499527</td>\n",
       "    </tr>\n",
       "    <tr>\n",
       "      <th>2020-12-27</th>\n",
       "      <td>514.261738</td>\n",
       "      <td>432.305720</td>\n",
       "      <td>599.103691</td>\n",
       "    </tr>\n",
       "    <tr>\n",
       "      <th>2020-12-28</th>\n",
       "      <td>509.863303</td>\n",
       "      <td>427.640590</td>\n",
       "      <td>593.912621</td>\n",
       "    </tr>\n",
       "    <tr>\n",
       "      <th>2020-12-29</th>\n",
       "      <td>502.881719</td>\n",
       "      <td>420.293054</td>\n",
       "      <td>586.595714</td>\n",
       "    </tr>\n",
       "    <tr>\n",
       "      <th>2020-12-30</th>\n",
       "      <td>501.280184</td>\n",
       "      <td>418.502080</td>\n",
       "      <td>585.072891</td>\n",
       "    </tr>\n",
       "  </tbody>\n",
       "</table>\n",
       "<p>365 rows × 3 columns</p>\n",
       "</div>"
      ],
      "text/plain": [
       "                  yhat  yhat_lower_95  yhat_upper95\n",
       "ds                                                 \n",
       "2020-01-01  403.979607     374.889865    433.878640\n",
       "2020-01-02  418.907898     389.825120    447.780014\n",
       "2020-01-03  414.208289     384.659119    444.139333\n",
       "2020-01-04  426.194336     396.263630    456.119254\n",
       "2020-01-05  427.284939     397.631594    456.847104\n",
       "...                ...            ...           ...\n",
       "2020-12-26  512.327404     430.792533    596.499527\n",
       "2020-12-27  514.261738     432.305720    599.103691\n",
       "2020-12-28  509.863303     427.640590    593.912621\n",
       "2020-12-29  502.881719     420.293054    586.595714\n",
       "2020-12-30  501.280184     418.502080    585.072891\n",
       "\n",
       "[365 rows x 3 columns]"
      ]
     },
     "execution_count": 56,
     "metadata": {},
     "output_type": "execute_result"
    }
   ],
   "source": [
    "#results for trust1_syn\n",
    "forecasts[0]"
   ]
  },
  {
   "cell_type": "code",
   "execution_count": 57,
   "metadata": {},
   "outputs": [
    {
     "data": {
      "text/html": [
       "<div>\n",
       "<style scoped>\n",
       "    .dataframe tbody tr th:only-of-type {\n",
       "        vertical-align: middle;\n",
       "    }\n",
       "\n",
       "    .dataframe tbody tr th {\n",
       "        vertical-align: top;\n",
       "    }\n",
       "\n",
       "    .dataframe thead th {\n",
       "        text-align: right;\n",
       "    }\n",
       "</style>\n",
       "<table border=\"1\" class=\"dataframe\">\n",
       "  <thead>\n",
       "    <tr style=\"text-align: right;\">\n",
       "      <th></th>\n",
       "      <th>yhat</th>\n",
       "      <th>yhat_lower_95</th>\n",
       "      <th>yhat_upper95</th>\n",
       "    </tr>\n",
       "    <tr>\n",
       "      <th>ds</th>\n",
       "      <th></th>\n",
       "      <th></th>\n",
       "      <th></th>\n",
       "    </tr>\n",
       "  </thead>\n",
       "  <tbody>\n",
       "    <tr>\n",
       "      <th>2020-01-01</th>\n",
       "      <td>358.996250</td>\n",
       "      <td>334.274761</td>\n",
       "      <td>383.748430</td>\n",
       "    </tr>\n",
       "    <tr>\n",
       "      <th>2020-01-02</th>\n",
       "      <td>357.630992</td>\n",
       "      <td>332.529766</td>\n",
       "      <td>382.305824</td>\n",
       "    </tr>\n",
       "    <tr>\n",
       "      <th>2020-01-03</th>\n",
       "      <td>366.287902</td>\n",
       "      <td>341.352520</td>\n",
       "      <td>391.277667</td>\n",
       "    </tr>\n",
       "    <tr>\n",
       "      <th>2020-01-04</th>\n",
       "      <td>373.888315</td>\n",
       "      <td>349.216802</td>\n",
       "      <td>398.770930</td>\n",
       "    </tr>\n",
       "    <tr>\n",
       "      <th>2020-01-05</th>\n",
       "      <td>371.652474</td>\n",
       "      <td>346.678438</td>\n",
       "      <td>395.934311</td>\n",
       "    </tr>\n",
       "    <tr>\n",
       "      <th>...</th>\n",
       "      <td>...</td>\n",
       "      <td>...</td>\n",
       "      <td>...</td>\n",
       "    </tr>\n",
       "    <tr>\n",
       "      <th>2020-12-26</th>\n",
       "      <td>422.913012</td>\n",
       "      <td>377.901057</td>\n",
       "      <td>469.410454</td>\n",
       "    </tr>\n",
       "    <tr>\n",
       "      <th>2020-12-27</th>\n",
       "      <td>423.081719</td>\n",
       "      <td>377.312151</td>\n",
       "      <td>469.026779</td>\n",
       "    </tr>\n",
       "    <tr>\n",
       "      <th>2020-12-28</th>\n",
       "      <td>414.847951</td>\n",
       "      <td>368.142280</td>\n",
       "      <td>460.983253</td>\n",
       "    </tr>\n",
       "    <tr>\n",
       "      <th>2020-12-29</th>\n",
       "      <td>410.845375</td>\n",
       "      <td>364.620887</td>\n",
       "      <td>457.145712</td>\n",
       "    </tr>\n",
       "    <tr>\n",
       "      <th>2020-12-30</th>\n",
       "      <td>415.321806</td>\n",
       "      <td>369.228503</td>\n",
       "      <td>460.832534</td>\n",
       "    </tr>\n",
       "  </tbody>\n",
       "</table>\n",
       "<p>365 rows × 3 columns</p>\n",
       "</div>"
      ],
      "text/plain": [
       "                  yhat  yhat_lower_95  yhat_upper95\n",
       "ds                                                 \n",
       "2020-01-01  358.996250     334.274761    383.748430\n",
       "2020-01-02  357.630992     332.529766    382.305824\n",
       "2020-01-03  366.287902     341.352520    391.277667\n",
       "2020-01-04  373.888315     349.216802    398.770930\n",
       "2020-01-05  371.652474     346.678438    395.934311\n",
       "...                ...            ...           ...\n",
       "2020-12-26  422.913012     377.901057    469.410454\n",
       "2020-12-27  423.081719     377.312151    469.026779\n",
       "2020-12-28  414.847951     368.142280    460.983253\n",
       "2020-12-29  410.845375     364.620887    457.145712\n",
       "2020-12-30  415.321806     369.228503    460.832534\n",
       "\n",
       "[365 rows x 3 columns]"
      ]
     },
     "execution_count": 57,
     "metadata": {},
     "output_type": "execute_result"
    }
   ],
   "source": [
    "#results for trust2_syn is at index 1 etc.\n",
    "forecasts[1]"
   ]
  },
  {
   "cell_type": "code",
   "execution_count": 59,
   "metadata": {},
   "outputs": [
    {
     "data": {
      "text/plain": [
       "<matplotlib.axes._subplots.AxesSubplot at 0x7ff17cb24fd0>"
      ]
     },
     "execution_count": 59,
     "metadata": {},
     "output_type": "execute_result"
    },
    {
     "data": {
      "image/png": "[encoded data removed]",
      "text/plain": [
       "<Figure size 432x288 with 1 Axes>"
      ]
     },
     "metadata": {
      "needs_background": "light"
     },
     "output_type": "display_data"
    }
   ],
   "source": [
    "forecasts[0]['yhat'].plot()"
   ]
  },
  {
   "cell_type": "code",
   "execution_count": 60,
   "metadata": {},
   "outputs": [
    {
     "data": {
      "text/plain": [
       "[<matplotlib.lines.Line2D at 0x7ff1841265d0>]"
      ]
     },
     "execution_count": 60,
     "metadata": {},
     "output_type": "execute_result"
    },
    {
     "data": {
      "image/png": "[encoded data removed]",
      "text/plain": [
       "<Figure size 864x648 with 1 Axes>"
      ]
     },
     "metadata": {
      "needs_background": "light"
     },
     "output_type": "display_data"
    }
   ],
   "source": [
    "fig, ax = plt.subplots(1,1, figsize=(12,9))\n",
    "ax.plot(clean['trust1_syn'])\n",
    "ax.plot(forecasts[0]['yhat'], color='red')"
   ]
  },
  {
   "cell_type": "code",
   "execution_count": null,
   "metadata": {},
   "outputs": [],
   "source": []
  }
 ],
 "metadata": {
  "kernelspec": {
   "display_name": "Python 3",
   "language": "python",
   "name": "python3"
  },
  "language_info": {
   "codemirror_mode": {
    "name": "ipython",
    "version": 3
   },
   "file_extension": ".py",
   "mimetype": "text/x-python",
   "name": "python",
   "nbconvert_exporter": "python",
   "pygments_lexer": "ipython3",
   "version": "3.7.7"
  }
 },
 "nbformat": 4,
 "nbformat_minor": 4
}
